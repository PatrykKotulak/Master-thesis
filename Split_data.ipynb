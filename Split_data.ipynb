{
 "cells": [
  {
   "cell_type": "code",
   "execution_count": null,
   "id": "forbidden-bunny",
   "metadata": {},
   "outputs": [],
   "source": [
    "import collections\n",
    "import numpy as np\n",
    "import pandas as pd\n",
    "import re\n",
    "\n",
    "from argparse import Namespace"
   ]
  },
  {
   "cell_type": "code",
   "execution_count": null,
   "id": "certified-manor",
   "metadata": {},
   "outputs": [],
   "source": [
    "args = Namespace(\n",
    "    raw_dataset_csv=\"data_for_model.csv\",\n",
    "    train_proportion=0.6,\n",
    "    val_proportion=0.2,\n",
    "    test_proportion=0.2,\n",
    "    output_munged_csv=\"data_with_splits.csv\",\n",
    "    seed=101\n",
    ")"
   ]
  },
  {
   "cell_type": "code",
   "execution_count": null,
   "id": "wireless-arrival",
   "metadata": {},
   "outputs": [],
   "source": [
    "# Read raw data\n",
    "comments = pd.read_csv(args.raw_dataset_csv, header=0)"
   ]
  },
  {
   "cell_type": "code",
   "execution_count": null,
   "id": "clean-tuner",
   "metadata": {},
   "outputs": [],
   "source": [
    "comments"
   ]
  },
  {
   "cell_type": "code",
   "execution_count": null,
   "id": "suitable-airfare",
   "metadata": {},
   "outputs": [],
   "source": [
    "# Unique classes\n",
    "set(comments['Kind of offensive language'])"
   ]
  },
  {
   "cell_type": "code",
   "execution_count": null,
   "id": "constitutional-phrase",
   "metadata": {},
   "outputs": [],
   "source": [
    "# Splitting train by nationality\n",
    "# Create dict\n",
    "by_kind_language = collections.defaultdict(list)\n",
    "for _, row in comments.iterrows():\n",
    "    by_kind_language[row['Kind of offensive language']].append(row.to_dict())"
   ]
  },
  {
   "cell_type": "code",
   "execution_count": null,
   "id": "built-richardson",
   "metadata": {},
   "outputs": [],
   "source": [
    "# Create split data\n",
    "final_list = []\n",
    "np.random.seed(args.seed)\n",
    "for _, item_list in sorted(by_kind_language.items()):\n",
    "    np.random.shuffle(item_list)\n",
    "    n = len(item_list)\n",
    "    n_train = int(args.train_proportion*n)\n",
    "    n_val = int(args.val_proportion*n)\n",
    "    n_test = int(args.test_proportion*n)\n",
    "    \n",
    "    # Give data point a split attribute\n",
    "    for item in item_list[:n_train]:\n",
    "        item['split'] = 'train'\n",
    "    for item in item_list[n_train:n_train+n_val]:\n",
    "        item['split'] = 'val'\n",
    "    for item in item_list[n_train+n_val:]:\n",
    "        item['split'] = 'test'  \n",
    "    \n",
    "    # Add to final list\n",
    "    final_list.extend(item_list)"
   ]
  },
  {
   "cell_type": "code",
   "execution_count": null,
   "id": "stopped-waters",
   "metadata": {},
   "outputs": [],
   "source": [
    "# Write split data to file\n",
    "final_comments = pd.DataFrame(final_list)"
   ]
  },
  {
   "cell_type": "code",
   "execution_count": null,
   "id": "cutting-favorite",
   "metadata": {},
   "outputs": [],
   "source": [
    "final_comments.groupby(['split', 'Kind of offensive language']).count()"
   ]
  },
  {
   "cell_type": "code",
   "execution_count": null,
   "id": "handed-pharmacy",
   "metadata": {},
   "outputs": [],
   "source": [
    "# Write munged data to CSV\n",
    "final_comments.to_csv(args.output_munged_csv, index=False)"
   ]
  }
 ],
 "metadata": {
  "hide_input": false,
  "kernelspec": {
   "display_name": "Python 3",
   "language": "python",
   "name": "python3"
  },
  "language_info": {
   "codemirror_mode": {
    "name": "ipython",
    "version": 3
   },
   "file_extension": ".py",
   "mimetype": "text/x-python",
   "name": "python",
   "nbconvert_exporter": "python",
   "pygments_lexer": "ipython3",
   "version": "3.7.10"
  }
 },
 "nbformat": 4,
 "nbformat_minor": 5
}
