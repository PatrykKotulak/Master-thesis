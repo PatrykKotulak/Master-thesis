{
 "cells": [
  {
   "cell_type": "code",
   "execution_count": 1,
   "metadata": {},
   "outputs": [
    {
     "data": {
      "text/html": [
       "<style type=\"text/css\">\n",
       "table.dataframe td, table.dataframe th {\n",
       "    border: 1px black solid !important;\n",
       "  color: black !important;\n",
       "}\n",
       "</style>\n"
      ],
      "text/plain": [
       "<IPython.core.display.HTML object>"
      ]
     },
     "metadata": {},
     "output_type": "display_data"
    }
   ],
   "source": [
    "%%HTML\n",
    "<style type=\"text/css\">\n",
    "table.dataframe td, table.dataframe th {\n",
    "    border: 1px black solid !important;\n",
    "  color: black !important;\n",
    "}\n",
    "</style>"
   ]
  },
  {
   "cell_type": "code",
   "execution_count": 2,
   "metadata": {},
   "outputs": [],
   "source": [
    "import os\n",
    "import pandas as pd\n",
    "import numpy as np\n",
    "import seaborn as sns\n",
    "import matplotlib.pyplot as plt\n",
    "\n",
    "# processing of text\n",
    "import stanza\n",
    "import spacy\n",
    "from pyMorfologik import Morfologik\n",
    "\n",
    "# models\n",
    "import torch\n",
    "import lazypredict\n",
    "import xgboost\n",
    "\n",
    "# setting display\n",
    "# from IPython.display import HTML\n",
    "# styles = [dict(selector=\"th\", props=[(\"text-align\", \"center\")])]\n",
    "pd.options.display.max_colwidth = 300\n",
    "pd.set_option(\"display.colheader_justify\",\"left\")\n",
    "%matplotlib inline"
   ]
  },
  {
   "cell_type": "code",
   "execution_count": 3,
   "metadata": {},
   "outputs": [],
   "source": [
    "# load polish model of spacy\n",
    "spacy_pl = spacy.load('pl_spacy_model')"
   ]
  },
  {
   "cell_type": "code",
   "execution_count": 4,
   "metadata": {},
   "outputs": [],
   "source": [
    "data_poleval_raw = pd.read_csv('converted_label_poleval.txt', \n",
    "                           error_bad_lines=False, sep=\",\")\n",
    "data_github_raw = pd.read_csv('labeled_dataset.txt', \n",
    "                          error_bad_lines=False, sep=\"|\")\n",
    "\n",
    "data_poleval = data_poleval_raw.copy(deep=True)\n",
    "data_github = data_github_raw.copy(deep=True)\n",
    "datasets = [data_poleval, data_github]"
   ]
  },
  {
   "cell_type": "code",
   "execution_count": 5,
   "metadata": {},
   "outputs": [
    {
     "data": {
      "text/html": [
       "<div>\n",
       "<style scoped>\n",
       "    .dataframe tbody tr th:only-of-type {\n",
       "        vertical-align: middle;\n",
       "    }\n",
       "\n",
       "    .dataframe tbody tr th {\n",
       "        vertical-align: top;\n",
       "    }\n",
       "\n",
       "    .dataframe thead th {\n",
       "        text-align: right;\n",
       "    }\n",
       "</style>\n",
       "<table border=\"1\" class=\"dataframe\">\n",
       "  <thead>\n",
       "    <tr style=\"text-align: left;\">\n",
       "      <th></th>\n",
       "      <th>Comment</th>\n",
       "      <th>Kind of offensive language</th>\n",
       "    </tr>\n",
       "  </thead>\n",
       "  <tbody>\n",
       "    <tr>\n",
       "      <th>0</th>\n",
       "      <td>Dla mnie faworytem do tytułu będzie Cracovia. Zobaczymy, czy typ się sprawdzi.</td>\n",
       "      <td>0</td>\n",
       "    </tr>\n",
       "    <tr>\n",
       "      <th>1</th>\n",
       "      <td>@anonymized_account @anonymized_account Brawo ty Daria kibic ma być na dobre i złe</td>\n",
       "      <td>0</td>\n",
       "    </tr>\n",
       "    <tr>\n",
       "      <th>2</th>\n",
       "      <td>@anonymized_account @anonymized_account Super, polski premier składa kwiaty na grobach kolaborantów. Ale doczekaliśmy czasów.</td>\n",
       "      <td>0</td>\n",
       "    </tr>\n",
       "    <tr>\n",
       "      <th>3</th>\n",
       "      <td>@anonymized_account @anonymized_account Musi. Innej drogi nie mamy.</td>\n",
       "      <td>0</td>\n",
       "    </tr>\n",
       "    <tr>\n",
       "      <th>4</th>\n",
       "      <td>Odrzut natychmiastowy, kwaśna mina, mam problem</td>\n",
       "      <td>0</td>\n",
       "    </tr>\n",
       "  </tbody>\n",
       "</table>\n",
       "</div>"
      ],
      "text/plain": [
       "  Comment                                                                                                                         \\\n",
       "0                                                 Dla mnie faworytem do tytułu będzie Cracovia. Zobaczymy, czy typ się sprawdzi.   \n",
       "1                                             @anonymized_account @anonymized_account Brawo ty Daria kibic ma być na dobre i złe   \n",
       "2  @anonymized_account @anonymized_account Super, polski premier składa kwiaty na grobach kolaborantów. Ale doczekaliśmy czasów.   \n",
       "3                                                            @anonymized_account @anonymized_account Musi. Innej drogi nie mamy.   \n",
       "4                                                                                Odrzut natychmiastowy, kwaśna mina, mam problem   \n",
       "\n",
       "   Kind of offensive language  \n",
       "0  0                           \n",
       "1  0                           \n",
       "2  0                           \n",
       "3  0                           \n",
       "4  0                           "
      ]
     },
     "metadata": {},
     "output_type": "display_data"
    },
    {
     "data": {
      "text/html": [
       "<div>\n",
       "<style scoped>\n",
       "    .dataframe tbody tr th:only-of-type {\n",
       "        vertical-align: middle;\n",
       "    }\n",
       "\n",
       "    .dataframe tbody tr th {\n",
       "        vertical-align: top;\n",
       "    }\n",
       "\n",
       "    .dataframe thead th {\n",
       "        text-align: right;\n",
       "    }\n",
       "</style>\n",
       "<table border=\"1\" class=\"dataframe\">\n",
       "  <thead>\n",
       "    <tr style=\"text-align: left;\">\n",
       "      <th></th>\n",
       "      <th>Comment</th>\n",
       "      <th>No</th>\n",
       "      <th>Yes</th>\n",
       "      <th>Kind of offensive language</th>\n",
       "    </tr>\n",
       "  </thead>\n",
       "  <tbody>\n",
       "    <tr>\n",
       "      <th>0</th>\n",
       "      <td>Dziwię się, że Niemcy działają opieszale w sprawie gwałtów przecież nie wyszli chyba z wprawy z radykalnych rozwiązań tzn. w obozach dla tych islamskich zwierząt  instalować przewoźne komory gazowe i po problemie.</td>\n",
       "      <td>3</td>\n",
       "      <td>28</td>\n",
       "      <td>2</td>\n",
       "    </tr>\n",
       "    <tr>\n",
       "      <th>1</th>\n",
       "      <td>Przywalić atomem tej islamskiej dziczy. Merkel powinna być powieszona publicznie.</td>\n",
       "      <td>2</td>\n",
       "      <td>7</td>\n",
       "      <td>2</td>\n",
       "    </tr>\n",
       "    <tr>\n",
       "      <th>2</th>\n",
       "      <td>Tu trzeba jasno powiedzieć,wracasz albo kulka.</td>\n",
       "      <td>0</td>\n",
       "      <td>40</td>\n",
       "      <td>2</td>\n",
       "    </tr>\n",
       "    <tr>\n",
       "      <th>3</th>\n",
       "      <td>umrzesz za tydzień</td>\n",
       "      <td>16</td>\n",
       "      <td>0</td>\n",
       "      <td>2</td>\n",
       "    </tr>\n",
       "    <tr>\n",
       "      <th>4</th>\n",
       "      <td>wybic do nogi prawie wszystkich arabów , pozostawiając kilku jako eksponaty</td>\n",
       "      <td>1</td>\n",
       "      <td>1</td>\n",
       "      <td>2</td>\n",
       "    </tr>\n",
       "  </tbody>\n",
       "</table>\n",
       "</div>"
      ],
      "text/plain": [
       "  Comment                                                                                                                                                                                                                 \\\n",
       "0  Dziwię się, że Niemcy działają opieszale w sprawie gwałtów przecież nie wyszli chyba z wprawy z radykalnych rozwiązań tzn. w obozach dla tych islamskich zwierząt  instalować przewoźne komory gazowe i po problemie.   \n",
       "1                                                                                                                                      Przywalić atomem tej islamskiej dziczy. Merkel powinna być powieszona publicznie.   \n",
       "2                                                                                                                                                                         Tu trzeba jasno powiedzieć,wracasz albo kulka.   \n",
       "3                                                                                                                                                                                                     umrzesz za tydzień   \n",
       "4                                                                                                                                            wybic do nogi prawie wszystkich arabów , pozostawiając kilku jako eksponaty   \n",
       "\n",
       "   No  Yes  Kind of offensive language  \n",
       "0   3  28   2                           \n",
       "1   2   7   2                           \n",
       "2   0  40   2                           \n",
       "3  16   0   2                           \n",
       "4   1   1   2                           "
      ]
     },
     "metadata": {},
     "output_type": "display_data"
    }
   ],
   "source": [
    "for data in datasets:\n",
    "    display(data.head())"
   ]
  },
  {
   "cell_type": "code",
   "execution_count": 6,
   "metadata": {},
   "outputs": [
    {
     "data": {
      "text/html": [
       "<style  type=\"text/css\" >\n",
       "    #T_aca32fac_8986_11eb_b352_d07e35d75e64 th {\n",
       "          border: 1px black solid !important;\n",
       "    }    #T_aca32fac_8986_11eb_b352_d07e35d75e64row0_col0 {\n",
       "            color:  black !important;\n",
       "            border:  1px black solid !important;\n",
       "            text-align:  center;\n",
       "        }    #T_aca32fac_8986_11eb_b352_d07e35d75e64row1_col0 {\n",
       "            color:  black !important;\n",
       "            border:  1px black solid !important;\n",
       "            text-align:  center;\n",
       "        }</style><table id=\"T_aca32fac_8986_11eb_b352_d07e35d75e64\" ><thead>    <tr>        <th class=\"index_name level0\" >Response</th>        <th class=\"col_heading level0 col0\" >Kind of offensive language</th>    </tr></thead><tbody>\n",
       "                <tr>\n",
       "                        <th id=\"T_aca32fac_8986_11eb_b352_d07e35d75e64level0_row0\" class=\"row_heading level0 row0\" >1</th>\n",
       "                        <td id=\"T_aca32fac_8986_11eb_b352_d07e35d75e64row0_col0\" class=\"data row0 col0\" >2305</td>\n",
       "            </tr>\n",
       "            <tr>\n",
       "                        <th id=\"T_aca32fac_8986_11eb_b352_d07e35d75e64level0_row1\" class=\"row_heading level0 row1\" >2</th>\n",
       "                        <td id=\"T_aca32fac_8986_11eb_b352_d07e35d75e64row1_col0\" class=\"data row1 col0\" >43</td>\n",
       "            </tr>\n",
       "    </tbody></table>"
      ],
      "text/plain": [
       "<pandas.io.formats.style.Styler at 0x1e9b3f3bc88>"
      ]
     },
     "execution_count": 6,
     "metadata": {},
     "output_type": "execute_result"
    }
   ],
   "source": [
    "data_github['Kind of offensive language'].value_counts().to_frame()\\\n",
    "    .rename_axis('Response', axis=1).style.set_properties(\n",
    "        **{'color': 'black !important',\n",
    "           'border': '1px black solid !important',\n",
    "           'text-align': 'center'}\n",
    "        ).set_table_styles([{\n",
    "            'selector': 'th',\n",
    "            'props': [('border', '1px black solid !important')]\n",
    "        }])"
   ]
  },
  {
   "cell_type": "markdown",
   "metadata": {},
   "source": [
    "Due to only two response \"1\" and \"2\" we reject column 'no' and 'yes' because this columns don't give us necessary information."
   ]
  },
  {
   "cell_type": "code",
   "execution_count": 7,
   "metadata": {},
   "outputs": [],
   "source": [
    "data_github.drop(['No', 'Yes'], axis=1, inplace=True)"
   ]
  },
  {
   "cell_type": "code",
   "execution_count": 8,
   "metadata": {},
   "outputs": [
    {
     "data": {
      "text/html": [
       "<div>\n",
       "<style scoped>\n",
       "    .dataframe tbody tr th:only-of-type {\n",
       "        vertical-align: middle;\n",
       "    }\n",
       "\n",
       "    .dataframe tbody tr th {\n",
       "        vertical-align: top;\n",
       "    }\n",
       "\n",
       "    .dataframe thead th {\n",
       "        text-align: right;\n",
       "    }\n",
       "</style>\n",
       "<table border=\"1\" class=\"dataframe\">\n",
       "  <thead>\n",
       "    <tr style=\"text-align: left;\">\n",
       "      <th></th>\n",
       "      <th>Comment</th>\n",
       "      <th>Kind of offensive language</th>\n",
       "    </tr>\n",
       "  </thead>\n",
       "  <tbody>\n",
       "    <tr>\n",
       "      <th>0</th>\n",
       "      <td>Dziwię się, że Niemcy działają opieszale w sprawie gwałtów przecież nie wyszli chyba z wprawy z radykalnych rozwiązań tzn. w obozach dla tych islamskich zwierząt  instalować przewoźne komory gazowe i po problemie.</td>\n",
       "      <td>2</td>\n",
       "    </tr>\n",
       "    <tr>\n",
       "      <th>1</th>\n",
       "      <td>Przywalić atomem tej islamskiej dziczy. Merkel powinna być powieszona publicznie.</td>\n",
       "      <td>2</td>\n",
       "    </tr>\n",
       "    <tr>\n",
       "      <th>2</th>\n",
       "      <td>Tu trzeba jasno powiedzieć,wracasz albo kulka.</td>\n",
       "      <td>2</td>\n",
       "    </tr>\n",
       "    <tr>\n",
       "      <th>3</th>\n",
       "      <td>umrzesz za tydzień</td>\n",
       "      <td>2</td>\n",
       "    </tr>\n",
       "    <tr>\n",
       "      <th>4</th>\n",
       "      <td>wybic do nogi prawie wszystkich arabów , pozostawiając kilku jako eksponaty</td>\n",
       "      <td>2</td>\n",
       "    </tr>\n",
       "  </tbody>\n",
       "</table>\n",
       "</div>"
      ],
      "text/plain": [
       "  Comment                                                                                                                                                                                                                 \\\n",
       "0  Dziwię się, że Niemcy działają opieszale w sprawie gwałtów przecież nie wyszli chyba z wprawy z radykalnych rozwiązań tzn. w obozach dla tych islamskich zwierząt  instalować przewoźne komory gazowe i po problemie.   \n",
       "1                                                                                                                                      Przywalić atomem tej islamskiej dziczy. Merkel powinna być powieszona publicznie.   \n",
       "2                                                                                                                                                                         Tu trzeba jasno powiedzieć,wracasz albo kulka.   \n",
       "3                                                                                                                                                                                                     umrzesz za tydzień   \n",
       "4                                                                                                                                            wybic do nogi prawie wszystkich arabów , pozostawiając kilku jako eksponaty   \n",
       "\n",
       "   Kind of offensive language  \n",
       "0  2                           \n",
       "1  2                           \n",
       "2  2                           \n",
       "3  2                           \n",
       "4  2                           "
      ]
     },
     "execution_count": 8,
     "metadata": {},
     "output_type": "execute_result"
    }
   ],
   "source": [
    "data_github.head()"
   ]
  },
  {
   "cell_type": "code",
   "execution_count": null,
   "metadata": {},
   "outputs": [],
   "source": []
  }
 ],
 "metadata": {
  "hide_input": false,
  "kernelspec": {
   "display_name": "Python 3",
   "language": "python",
   "name": "python3"
  },
  "language_info": {
   "codemirror_mode": {
    "name": "ipython",
    "version": 3
   },
   "file_extension": ".py",
   "mimetype": "text/x-python",
   "name": "python",
   "nbconvert_exporter": "python",
   "pygments_lexer": "ipython3",
   "version": "3.7.10"
  }
 },
 "nbformat": 4,
 "nbformat_minor": 4
}
