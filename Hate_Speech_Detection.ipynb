{
 "cells": [
  {
   "cell_type": "code",
   "execution_count": 1,
   "metadata": {
    "hideCode": false,
    "hidePrompt": false
   },
   "outputs": [],
   "source": [
    "import re\n",
    "import collections\n",
    "import emoji\n",
    "import pandas as pd\n",
    "import numpy as np\n",
    "\n",
    "# processing of text\n",
    "import spacy\n",
    "from autocorrect import Speller\n",
    "from stopwords import stopwords\n",
    "\n",
    "# models\n",
    "import torch\n",
    "# from lazypredict.Supervised import LazyClassifier\n",
    "import xgboost\n",
    "from model_functions import train_validation_test_split\n",
    "from model_functions import split_train_val_test\n",
    "from sklearn.feature_extraction.text import CountVectorizer, TfidfVectorizer\n",
    "from sklearn.naive_bayes import MultinomialNB"
   ]
  },
  {
   "cell_type": "code",
   "execution_count": 2,
   "metadata": {},
   "outputs": [],
   "source": [
    "# load and download\n",
    "spell = Speller('pl')\n",
    "lemma_spacy = spacy.load('pl_spacy_model')"
   ]
  },
  {
   "cell_type": "code",
   "execution_count": 3,
   "metadata": {},
   "outputs": [],
   "source": [
    "class Preprocessing:\n",
    "    def __init__(self):\n",
    "        self.x_raw = None\n",
    "        self.y = None\n",
    "        self.x_train = None\n",
    "        self.x_val = None\n",
    "        self.x_test = None\n",
    "        self.y_train = None\n",
    "        self.y_val = None\n",
    "        self.y_test = None\n",
    "\n",
    "    def load_data(self):\n",
    "        data_poleval_raw = pd.read_csv(\n",
    "            'Labeled_data/converted_label_poleval.txt',\n",
    "            error_bad_lines=False, sep=\",\")\n",
    "        data_poleval_test_raw = pd.read_csv(\n",
    "            'Labeled_data/converted_label_poleval_test.txt',\n",
    "            error_bad_lines=False, sep=\",\")\n",
    "        data_github_raw = pd.read_csv('Labeled_data/labeled_dataset.txt',\n",
    "                                      error_bad_lines=False, sep=\"|\")\n",
    "\n",
    "        data_poleval = data_poleval_raw.copy(deep=True)\n",
    "        data_poleval_test = data_poleval_test_raw.copy(deep=True)\n",
    "        data_github = data_github_raw.copy(deep=True)\n",
    "\n",
    "        conected_data = pd.concat([data_poleval,\n",
    "                                   data_poleval_test,\n",
    "                                   data_github.drop(['No', 'Yes'],\n",
    "                                                    axis=1)],\n",
    "                                  axis=0,\n",
    "                                  ignore_index=True)\n",
    "        self.x_raw = conected_data['Comment']\n",
    "        self.y = conected_data['Kind of offensive language']\n",
    "\n",
    "    def remove_quoting_comments(self):\n",
    "        pattern = r'^RT.*'\n",
    "        remove = self.x_raw.str.contains(pattern)\n",
    "        self.x_raw = self.x_raw[~remove].reset_index(drop=True)\n",
    "    \n",
    "    def demojize(self):\n",
    "        self.x_raw = self.x_raw.apply(lambda x: emoji.demojize(x,  delimiters=(\"~~\", \"~~\")))\n",
    "    \n",
    "    def clean_text(self, stopwords_remove = False):\n",
    "        # remove of @name\n",
    "        pattern = re.compile(r'@\\w+[\\s]*')\n",
    "        self.x_raw = self.x_raw.str.replace(pattern, '')\n",
    "\n",
    "        # split emoji\n",
    "        pattern = re.compile(r\"~{2}\")\n",
    "        self.x_raw = self.x_raw.str.replace(pattern, ' ')\n",
    "\n",
    "        # remove of links https\n",
    "        pattern = re.compile(r\"https?[:\\/\\/]+[a-zA-Z0-9.\\-\\/?=_~:#%]+\")\n",
    "        self.x_raw = self.x_raw.str.replace(pattern, '')\n",
    "\n",
    "        # removal of punctuations and numbers\n",
    "        pattern = re.compile(r'[^_ąćęłńóśźżĄĆĘŁŃÓŚŹŻa-zA-Z\\s]')\n",
    "        self.x_raw = self.x_raw.str.replace(pattern, '')\n",
    "\n",
    "        # remove more than one space\n",
    "        pattern = re.compile(r'\\s+')\n",
    "        self.x_raw = self.x_raw.str.replace(pattern, ' ')\n",
    "\n",
    "        # remove beginning and ending task space\n",
    "        pattern = re.compile(r'^\\s+|\\s+?$')\n",
    "        self.x_raw = self.x_raw.str.replace(pattern, '')\n",
    "\n",
    "        # remove of capitalization\n",
    "        self.x_raw = self.x_raw.str.lower()\n",
    "        \n",
    "        # remove stopwords\n",
    "    def stopwords_remove(self):\n",
    "        self.x_raw = self.x_raw.apply(lambda x: x.split())\n",
    "        self.x_raw = self.x_raw.apply(\n",
    "            lambda x: [item for item in x if\n",
    "                       item not in stopwords and len(item) >= 3])\n",
    "        for i in range(len(self.x_raw)):\n",
    "            self.x_raw[i] = ' '.join(self.x_raw[i])\n",
    "                \n",
    "    def lemmatize_text(self):\n",
    "        self.x_raw = self.x_raw.apply(lambda x: [token.lemma_ for token in lemma_spacy(x)])\n",
    "        \n",
    "    def correct_typo_words(self):\n",
    "        self.dict_words_place = collections.defaultdict(list)\n",
    "        for _, row_list in self.x_raw.items():\n",
    "            for place_in_row in range(len(row_list)):\n",
    "                self.dict_words_place[row_list[place_in_row]].append((_, place_in_row))\n",
    "    \n",
    "        with open('slowa.txt', encoding='utf-8') as file:\n",
    "            contents = file.read()\n",
    "            for word, place_word in self.dict_words_place.items():\n",
    "                if word in contents:\n",
    "                    continue\n",
    "                else:\n",
    "                    for token in lemma_spacy(spell(word)):\n",
    "                        correct = token.lemma_\n",
    "                    for number in place_word:\n",
    "                        self.x_raw[number[0]][number[1]] = correct\n",
    "    \n",
    "    def token_join(self):\n",
    "            self.x_raw = self.x_raw.apply(lambda x: ' '.join(x))\n",
    "    \n",
    "    def write_to_file(self):\n",
    "        self.x_raw.to_csv('clean_x_raw.csv', index=False)\n",
    "        self.y.to_csv('clean_y.csv', index=False)"
   ]
  },
  {
   "cell_type": "code",
   "execution_count": 4,
   "metadata": {},
   "outputs": [],
   "source": [
    "data = Preprocessing()"
   ]
  },
  {
   "cell_type": "code",
   "execution_count": 5,
   "metadata": {},
   "outputs": [],
   "source": [
    "data.load_data()\n",
    "data.remove_quoting_comments()\n",
    "data.demojize()\n",
    "data.clean_text()\n",
    "data.stopwords_remove()\n",
    "data.lemmatize_text()\n",
    "data.correct_typo_words()\n",
    "data.token_join()\n",
    "data.write_to_file()"
   ]
  },
  {
   "cell_type": "markdown",
   "metadata": {},
   "source": [
    "# Model"
   ]
  },
  {
   "cell_type": "code",
   "execution_count": null,
   "metadata": {},
   "outputs": [],
   "source": [
    "data = train_validation_test_split(conected_data)"
   ]
  },
  {
   "cell_type": "code",
   "execution_count": null,
   "metadata": {},
   "outputs": [],
   "source": [
    "data"
   ]
  },
  {
   "cell_type": "code",
   "execution_count": null,
   "metadata": {},
   "outputs": [],
   "source": [
    "test = data[data['split'] =='train'].iloc[:10][['Comment', 'Kind of offensive language']]\n",
    "test['Comment'] = preprocess_text(test['Comment'], stopwords_remove=True)\n",
    "# test['Comment'] = test['Comment'].apply(lambda x: x.split())\n",
    "test"
   ]
  },
  {
   "cell_type": "code",
   "execution_count": null,
   "metadata": {},
   "outputs": [],
   "source": [
    "test['Comment'] = lemmatize_text(test['Comment'])"
   ]
  },
  {
   "cell_type": "code",
   "execution_count": 25,
   "metadata": {},
   "outputs": [
    {
     "ename": "NameError",
     "evalue": "name 'test' is not defined",
     "output_type": "error",
     "traceback": [
      "\u001b[1;31m---------------------------------------------------------------------------\u001b[0m",
      "\u001b[1;31mNameError\u001b[0m                                 Traceback (most recent call last)",
      "\u001b[1;32m<ipython-input-25-4e1243bd22c6>\u001b[0m in \u001b[0;36m<module>\u001b[1;34m\u001b[0m\n\u001b[1;32m----> 1\u001b[1;33m \u001b[0mtest\u001b[0m\u001b[1;33m\u001b[0m\u001b[1;33m\u001b[0m\u001b[0m\n\u001b[0m",
      "\u001b[1;31mNameError\u001b[0m: name 'test' is not defined"
     ]
    }
   ],
   "source": [
    "test"
   ]
  },
  {
   "cell_type": "code",
   "execution_count": null,
   "metadata": {},
   "outputs": [],
   "source": [
    "# test = data[data['split'] =='train'][['Comment', 'Kind of offensive language']]\n",
    "# test['Comment'] = test['Comment'].apply(lambda x: x.split())\n",
    "# test"
   ]
  },
  {
   "cell_type": "code",
   "execution_count": null,
   "metadata": {},
   "outputs": [],
   "source": [
    "# test['Comment'] = test['Comment'].apply(lambda x: [token.lemma_ for token in lemma_spacy(x)])"
   ]
  },
  {
   "cell_type": "code",
   "execution_count": null,
   "metadata": {},
   "outputs": [],
   "source": []
  },
  {
   "cell_type": "code",
   "execution_count": 19,
   "metadata": {},
   "outputs": [],
   "source": [
    "conected_data = split_train_val_test()"
   ]
  },
  {
   "cell_type": "code",
   "execution_count": 24,
   "metadata": {},
   "outputs": [
    {
     "ename": "KeyError",
     "evalue": "'Comment'",
     "output_type": "error",
     "traceback": [
      "\u001b[1;31m---------------------------------------------------------------------------\u001b[0m",
      "\u001b[1;31mKeyError\u001b[0m                                  Traceback (most recent call last)",
      "\u001b[1;32m<ipython-input-24-ef614045304c>\u001b[0m in \u001b[0;36m<module>\u001b[1;34m\u001b[0m\n\u001b[1;32m----> 1\u001b[1;33m \u001b[0mconected_data\u001b[0m\u001b[1;33m[\u001b[0m\u001b[1;34m'Comment'\u001b[0m\u001b[1;33m]\u001b[0m \u001b[1;33m=\u001b[0m \u001b[0mconected_data\u001b[0m\u001b[1;33m[\u001b[0m\u001b[1;34m'Comment'\u001b[0m\u001b[1;33m]\u001b[0m\u001b[1;33m.\u001b[0m\u001b[0mapply\u001b[0m\u001b[1;33m(\u001b[0m\u001b[1;32mlambda\u001b[0m \u001b[0mx\u001b[0m\u001b[1;33m:\u001b[0m \u001b[1;34m' '\u001b[0m\u001b[1;33m.\u001b[0m\u001b[0mjoin\u001b[0m\u001b[1;33m(\u001b[0m\u001b[0mx\u001b[0m\u001b[1;33m)\u001b[0m\u001b[1;33m)\u001b[0m\u001b[1;33m\u001b[0m\u001b[1;33m\u001b[0m\u001b[0m\n\u001b[0m",
      "\u001b[1;32m~\\anaconda3\\envs\\praca37\\lib\\site-packages\\pandas\\core\\series.py\u001b[0m in \u001b[0;36m__getitem__\u001b[1;34m(self, key)\u001b[0m\n\u001b[0;32m    851\u001b[0m \u001b[1;33m\u001b[0m\u001b[0m\n\u001b[0;32m    852\u001b[0m         \u001b[1;32melif\u001b[0m \u001b[0mkey_is_scalar\u001b[0m\u001b[1;33m:\u001b[0m\u001b[1;33m\u001b[0m\u001b[1;33m\u001b[0m\u001b[0m\n\u001b[1;32m--> 853\u001b[1;33m             \u001b[1;32mreturn\u001b[0m \u001b[0mself\u001b[0m\u001b[1;33m.\u001b[0m\u001b[0m_get_value\u001b[0m\u001b[1;33m(\u001b[0m\u001b[0mkey\u001b[0m\u001b[1;33m)\u001b[0m\u001b[1;33m\u001b[0m\u001b[1;33m\u001b[0m\u001b[0m\n\u001b[0m\u001b[0;32m    854\u001b[0m \u001b[1;33m\u001b[0m\u001b[0m\n\u001b[0;32m    855\u001b[0m         \u001b[1;32mif\u001b[0m \u001b[0mis_hashable\u001b[0m\u001b[1;33m(\u001b[0m\u001b[0mkey\u001b[0m\u001b[1;33m)\u001b[0m\u001b[1;33m:\u001b[0m\u001b[1;33m\u001b[0m\u001b[1;33m\u001b[0m\u001b[0m\n",
      "\u001b[1;32m~\\anaconda3\\envs\\praca37\\lib\\site-packages\\pandas\\core\\series.py\u001b[0m in \u001b[0;36m_get_value\u001b[1;34m(self, label, takeable)\u001b[0m\n\u001b[0;32m    959\u001b[0m \u001b[1;33m\u001b[0m\u001b[0m\n\u001b[0;32m    960\u001b[0m         \u001b[1;31m# Similar to Index.get_value, but we do not fall back to positional\u001b[0m\u001b[1;33m\u001b[0m\u001b[1;33m\u001b[0m\u001b[1;33m\u001b[0m\u001b[0m\n\u001b[1;32m--> 961\u001b[1;33m         \u001b[0mloc\u001b[0m \u001b[1;33m=\u001b[0m \u001b[0mself\u001b[0m\u001b[1;33m.\u001b[0m\u001b[0mindex\u001b[0m\u001b[1;33m.\u001b[0m\u001b[0mget_loc\u001b[0m\u001b[1;33m(\u001b[0m\u001b[0mlabel\u001b[0m\u001b[1;33m)\u001b[0m\u001b[1;33m\u001b[0m\u001b[1;33m\u001b[0m\u001b[0m\n\u001b[0m\u001b[0;32m    962\u001b[0m         \u001b[1;32mreturn\u001b[0m \u001b[0mself\u001b[0m\u001b[1;33m.\u001b[0m\u001b[0mindex\u001b[0m\u001b[1;33m.\u001b[0m\u001b[0m_get_values_for_loc\u001b[0m\u001b[1;33m(\u001b[0m\u001b[0mself\u001b[0m\u001b[1;33m,\u001b[0m \u001b[0mloc\u001b[0m\u001b[1;33m,\u001b[0m \u001b[0mlabel\u001b[0m\u001b[1;33m)\u001b[0m\u001b[1;33m\u001b[0m\u001b[1;33m\u001b[0m\u001b[0m\n\u001b[0;32m    963\u001b[0m \u001b[1;33m\u001b[0m\u001b[0m\n",
      "\u001b[1;32m~\\anaconda3\\envs\\praca37\\lib\\site-packages\\pandas\\core\\indexes\\range.py\u001b[0m in \u001b[0;36mget_loc\u001b[1;34m(self, key, method, tolerance)\u001b[0m\n\u001b[0;32m    352\u001b[0m                 \u001b[1;32mexcept\u001b[0m \u001b[0mValueError\u001b[0m \u001b[1;32mas\u001b[0m \u001b[0merr\u001b[0m\u001b[1;33m:\u001b[0m\u001b[1;33m\u001b[0m\u001b[1;33m\u001b[0m\u001b[0m\n\u001b[0;32m    353\u001b[0m                     \u001b[1;32mraise\u001b[0m \u001b[0mKeyError\u001b[0m\u001b[1;33m(\u001b[0m\u001b[0mkey\u001b[0m\u001b[1;33m)\u001b[0m \u001b[1;32mfrom\u001b[0m \u001b[0merr\u001b[0m\u001b[1;33m\u001b[0m\u001b[1;33m\u001b[0m\u001b[0m\n\u001b[1;32m--> 354\u001b[1;33m             \u001b[1;32mraise\u001b[0m \u001b[0mKeyError\u001b[0m\u001b[1;33m(\u001b[0m\u001b[0mkey\u001b[0m\u001b[1;33m)\u001b[0m\u001b[1;33m\u001b[0m\u001b[1;33m\u001b[0m\u001b[0m\n\u001b[0m\u001b[0;32m    355\u001b[0m         \u001b[1;32mreturn\u001b[0m \u001b[0msuper\u001b[0m\u001b[1;33m(\u001b[0m\u001b[1;33m)\u001b[0m\u001b[1;33m.\u001b[0m\u001b[0mget_loc\u001b[0m\u001b[1;33m(\u001b[0m\u001b[0mkey\u001b[0m\u001b[1;33m,\u001b[0m \u001b[0mmethod\u001b[0m\u001b[1;33m=\u001b[0m\u001b[0mmethod\u001b[0m\u001b[1;33m,\u001b[0m \u001b[0mtolerance\u001b[0m\u001b[1;33m=\u001b[0m\u001b[0mtolerance\u001b[0m\u001b[1;33m)\u001b[0m\u001b[1;33m\u001b[0m\u001b[1;33m\u001b[0m\u001b[0m\n\u001b[0;32m    356\u001b[0m \u001b[1;33m\u001b[0m\u001b[0m\n",
      "\u001b[1;31mKeyError\u001b[0m: 'Comment'"
     ]
    }
   ],
   "source": [
    "conected_data['Comment'] = conected_data['Comment'].apply(lambda x: ' '.join(x))"
   ]
  },
  {
   "cell_type": "code",
   "execution_count": null,
   "metadata": {},
   "outputs": [],
   "source": []
  },
  {
   "cell_type": "code",
   "execution_count": null,
   "metadata": {},
   "outputs": [],
   "source": []
  },
  {
   "cell_type": "code",
   "execution_count": null,
   "metadata": {},
   "outputs": [],
   "source": []
  },
  {
   "cell_type": "code",
   "execution_count": null,
   "metadata": {},
   "outputs": [],
   "source": []
  },
  {
   "cell_type": "code",
   "execution_count": null,
   "metadata": {},
   "outputs": [],
   "source": []
  },
  {
   "cell_type": "code",
   "execution_count": null,
   "metadata": {},
   "outputs": [],
   "source": [
    "data[data['split'] =='val'].iloc[:10]['Kind of offensive language']"
   ]
  },
  {
   "cell_type": "code",
   "execution_count": null,
   "metadata": {},
   "outputs": [],
   "source": [
    "X_train = data[data['split'] =='train'].iloc[:10][['Comment']]\n",
    "y_train =  data[data['split'] =='train'].iloc[:10]['Kind of offensive language']\n",
    "X_test = data[data['split'] =='val'].iloc[:10][['Comment']]\n",
    "y_test =  data[data['split'] =='val'].iloc[:10]['Kind of offensive language']\n",
    "tfidf_vectorizer = TfidfVectorizer()\n",
    "\n",
    "# TF-IDF feature matrix\n",
    "X_train = tfidf_vectorizer.fit_transform(X_train)"
   ]
  },
  {
   "cell_type": "code",
   "execution_count": null,
   "metadata": {},
   "outputs": [],
   "source": [
    "X_train = data[data['split'] =='train'].iloc[:10][['Comment']]\n",
    "y_train =  data[data['split'] =='train'].iloc[:10]['Kind of offensive language']\n",
    "X_test = data[data['split'] =='val'].iloc[:10][['Comment']]\n",
    "y_test =  data[data['split'] =='val'].iloc[:10]['Kind of offensive language']\n",
    "\n",
    "\n",
    "tfidf_vectorizer = TfidfVectorizer()\n",
    "\n",
    "# TF-IDF feature matrix\n",
    "X_train = tfidf_vectorizer.fit_transform(X_train)\n",
    "X_test = tfidf_vectorizer.transform(X_test)\n",
    "\n",
    "\n",
    "# print(tfidf_vectorizer.get_feature_names())"
   ]
  },
  {
   "cell_type": "code",
   "execution_count": null,
   "metadata": {},
   "outputs": [],
   "source": [
    "X_train = data[data['split'] =='train']['Comment']\n",
    "y_train =  data[data['split'] =='train']['Kind of offensive language']\n",
    "X_test = data[data['split'] =='val']['Comment']\n",
    "y_test =  data[data['split'] =='val']['Kind of offensive language']\n",
    "\n",
    "vectorizer = CountVectorizer()\n",
    "X_train = vectorizer.fit_transform(X_train)\n",
    "X_test = vectorizer.transform(X_test)\n",
    "# print(vectorizer.get_feature_names())"
   ]
  },
  {
   "cell_type": "code",
   "execution_count": null,
   "metadata": {},
   "outputs": [],
   "source": [
    "from sklearn.ensemble import RandomForestClassifier"
   ]
  },
  {
   "cell_type": "code",
   "execution_count": null,
   "metadata": {},
   "outputs": [],
   "source": [
    "classifier = RandomForestClassifier(n_estimators=1000, random_state=0)\n",
    "classifier.fit(X_train, y_train) "
   ]
  },
  {
   "cell_type": "code",
   "execution_count": null,
   "metadata": {},
   "outputs": [],
   "source": [
    "y_pred = classifier.predict(X_test)"
   ]
  },
  {
   "cell_type": "code",
   "execution_count": null,
   "metadata": {},
   "outputs": [],
   "source": [
    "from sklearn.metrics import classification_report, confusion_matrix, accuracy_score\n",
    "\n",
    "print(confusion_matrix(y_test,y_pred))\n",
    "print(classification_report(y_test,y_pred))\n",
    "print(accuracy_score(y_test, y_pred))"
   ]
  },
  {
   "cell_type": "code",
   "execution_count": null,
   "metadata": {},
   "outputs": [],
   "source": [
    "result = ''\n",
    "the_best_result = ''\n",
    "class Modeling:\n",
    "    \"\"\"Modeling and presentation of results\"\"\"\n",
    "\n",
    "    def __init__(self, model, X_train, X_test, title):\n",
    "        \"\"\"Inicjalization\"\"\"\n",
    "\n",
    "        self.model = model\n",
    "        self.title = title\n",
    "        self.X_train = X_train\n",
    "        self.y_train = y_train\n",
    "        self.X_test = X_test\n",
    "        self.result = ''\n",
    "\n",
    "    def fit_predict(self):\n",
    "        \"\"\"Function to train, predict our model and create roc curve\"\"\"\n",
    "        self.classifier = self.model\n",
    "        self.classifier.fit(self.X_train, self.y_train)\n",
    "        self.y_pred = self.classifier.predict(self.X_test)\n",
    "        self.y_pred_proba = self.classifier.predict_proba(self.X_test)[:, 1]\n",
    "\n",
    "        self.y_train_proba = self.classifier.predict_proba(self.X_train)[:, 1]\n",
    "\n",
    "    def print_results(self):\n",
    "        \"\"\"Function to print our result\"\"\"\n",
    "        self.accuracy = round(accuracy_score(y_test, self.y_pred), 4)\n",
    "        self.f1 = round(f1_score(y_test, self.y_pred, average='weighted'), 4)\n",
    "        self.recall = round(recall_score(y_test, self.y_pred, average='weighted'), 4)\n",
    "#         self.log_loss = round(log_loss(y_test, self.y_pred_proba), 4)\n",
    "\n",
    "        print(f'Results for {self.title}:')\n",
    "        print(f'{self.title} accuracy: {self.accuracy}')\n",
    "        print(f'{self.title} f-score: {self.f1}')\n",
    "        print(f'{self.title} recall: {self.recall}')\n",
    "#         print(f'{self.title} log_loss: {self.log_loss}')\n",
    "\n",
    "    def add_to_table(self):\n",
    "        \"\"\"Function to add our result to dataframe to compare all\"\"\"\n",
    "        global result\n",
    "        if len(result) == 0:\n",
    "            result = {self.title: [self.accuracy, self.f1, self.recall]}\n",
    "            result = pd.DataFrame(result, index=['Accuracy', 'F-score',\n",
    "                                                 'Recall'])\n",
    "        else:\n",
    "            conact = {self.title: [self.accuracy, self.f1, self.recall,\n",
    "                                   self.log_loss]}\n",
    "            conact = pd.DataFrame(conact, index=['Accuracy', 'F-score',\n",
    "                                                 'Recall'])\n",
    "            result = pd.concat([result, conact], axis=1)\n",
    "\n",
    "    def plot_confusion_matrix(self):\n",
    "        \"\"\"plot confusion matrix\"\"\"\n",
    "        plt.figure(figsize=(10, 10), facecolor='w')\n",
    "        sns.heatmap(confusion_matrix(y_test, self.y_pred), annot=True,\n",
    "                    fmt='.0f',\n",
    "                    cbar=False,\n",
    "                    vmax=confusion_matrix(y_test, self.y_pred).max(),\n",
    "                    vmin=0, cmap='Blues')\n",
    "        plt.xlabel('Predicted label')\n",
    "        plt.ylabel('True label')\n",
    "        plt.title(f'Confusion matrix for {self.title}')\n",
    "\n",
    "    def plot_confusion_matrix_percent(self):\n",
    "        \"\"\"Plot confusion matrix with part of 1 value\"\"\"\n",
    "        plt.figure(figsize=(10, 10), facecolor='w')\n",
    "        cm = confusion_matrix(y_test, self.y_pred)\n",
    "        cm_norm = cm.astype('float') / cm.sum(axis=1)[:, np.newaxis]\n",
    "        df_cm = pd.DataFrame(cm_norm)\n",
    "        sns.heatmap(df_cm, annot=True, cmap=\"Blues\", cbar=False)\n",
    "        plt.xlabel('Predicted label')\n",
    "        plt.ylabel('True label')\n",
    "        plt.title(f'Confusion matrix for {self.title}')"
   ]
  },
  {
   "cell_type": "code",
   "execution_count": null,
   "metadata": {},
   "outputs": [],
   "source": [
    "from sklearn.model_selection import train_test_split\n",
    "from sklearn.preprocessing import LabelEncoder, StandardScaler, OneHotEncoder\n",
    "from sklearn.linear_model import LogisticRegression\n",
    "from sklearn.svm import SVC\n",
    "from sklearn.ensemble import RandomForestClassifier\n",
    "from sklearn.model_selection import GridSearchCV, train_test_split\n",
    "from sklearn.model_selection import cross_val_score\n",
    "from sklearn.decomposition import PCA\n",
    "from sklearn.metrics import classification_report, confusion_matrix, f1_score\n",
    "from sklearn.metrics import accuracy_score, precision_score, recall_score\n",
    "from sklearn.metrics import precision_recall_curve, roc_curve, auc, log_loss"
   ]
  },
  {
   "cell_type": "code",
   "execution_count": null,
   "metadata": {},
   "outputs": [],
   "source": [
    "log_reg = Modeling(RandomForestClassifier(), \n",
    "                   X_train, X_test, \n",
    "                   'Logistic Regression')\n",
    "log_reg.fit_predict()\n",
    "log_reg.print_results()\n",
    "log_reg.add_to_table()"
   ]
  },
  {
   "cell_type": "code",
   "execution_count": null,
   "metadata": {},
   "outputs": [],
   "source": [
    "log_reg.plot_confusion_matrix_percent()"
   ]
  },
  {
   "cell_type": "code",
   "execution_count": null,
   "metadata": {},
   "outputs": [],
   "source": [
    "result"
   ]
  },
  {
   "cell_type": "code",
   "execution_count": null,
   "metadata": {},
   "outputs": [],
   "source": [
    "result = ''\n",
    "the_best_result = ''\n",
    "class Modeling:\n",
    "    \"\"\"Modeling and presentation of results\"\"\"\n",
    "    \n",
    "    def __init__(self, model, X_train, X_test, title, pca=False):\n",
    "        \"\"\"Inicjalization\"\"\"\n",
    "        \n",
    "        self.model = model\n",
    "        self.title = title\n",
    "        self.X_sample = X_train\n",
    "        self.y_sample = y_train\n",
    "        self.X_test = X_test\n",
    "        self.pca = pca\n",
    "        self.result = ''\n",
    "        \n",
    "    def sample(self, sampling):\n",
    "        self.sample = sampling\n",
    "        self.X_sample, self.y_sample = self.sample.fit_resample(\n",
    "            self.X_sample, self.y_sample)\n",
    "\n",
    "    def fit_predict(self):\n",
    "        \"\"\"Function to train, predict our model and create roc curve\"\"\"\n",
    "        self.classifier = self.model\n",
    "        self.classifier.fit(self.X_sample, self.y_sample)\n",
    "        self.y_pred = self.classifier.predict(self.X_test)\n",
    "        self.y_pred_proba = self.classifier.predict_proba(self.X_test)[:, 1]\n",
    "        if self.pca:\n",
    "            self.y_train_proba = self.classifier.predict_proba(X_train_pca)[:, 1]\n",
    "        else:\n",
    "            self.y_train_proba = self.classifier.predict_proba(X_train)[:, 1]\n",
    "        \n",
    "\n",
    "    def print_results(self):\n",
    "        \"\"\"Function to print our result\"\"\"\n",
    "        self.accuracy = round(accuracy_score(y_test, self.y_pred, 'weighted'), 4)\n",
    "        self.f1 = round(f1_score(y_test, self.y_pred, average='weighted'), 4)\n",
    "        self.recall = round(recall_score(y_test, self.y_pred, average='weighted'), 4)\n",
    "#         self.log_loss = round(log_loss(y_test, self.y_pred_proba), 4)\n",
    "        \n",
    "        print(f'Results for {self.title}:')\n",
    "        print(f'{self.title} accuracy: {self.accuracy}')\n",
    "        print(f'{self.title} f-score: {self.f1}')\n",
    "        print(f'{self.title} recall: {self.recall}')\n",
    "#         print(f'{self.title} log_loss: {self.log_loss}')\n",
    "\n",
    "    def add_to_table(self):\n",
    "        \"\"\"Function to add our result to dataframe to compare all\"\"\"\n",
    "        global result\n",
    "        if len(result) == 0:\n",
    "            result  = {self.title: [self.accuracy, self.f1, self.recall\n",
    "                                    ]}\n",
    "            result = pd.DataFrame(result, index=['Accuracy', 'F-score', \n",
    "                                                 'Recall'])\n",
    "        else:\n",
    "            conact = {self.title: [self.accuracy, self.f1, self.recall, \n",
    "                                   ]}\n",
    "            conact = pd.DataFrame(conact, index=['Accuracy', 'F-score', \n",
    "                                                 'Recall'])\n",
    "            result = pd.concat([result, conact], axis=1) \n",
    "\n",
    "    def plot_confusion_matrix(self):\n",
    "        \"\"\"plot confusion matrix\"\"\"\n",
    "        plt.figure(figsize=(10,10), facecolor='w')\n",
    "        sns.heatmap(confusion_matrix(y_test, self.y_pred), annot=True, fmt='.0f', \n",
    "                    cbar=False, vmax=confusion_matrix(y_test, self.y_pred).max(), \n",
    "                    vmin=0, cmap='Blues')\n",
    "        plt.xlabel('Predicted label')\n",
    "        plt.ylabel('True label')\n",
    "        plt.title(f'Confusion matrix for {self.title}')\n",
    "    \n",
    "    def plot_confusion_matrix_percent(self):\n",
    "        \"\"\"Plot confusion matrix with part of 1 value\"\"\"\n",
    "        plt.figure(figsize=(10,10), facecolor='w')\n",
    "        cm = confusion_matrix(y_test, self.y_pred)\n",
    "        cm_norm = cm.astype('float') / cm.sum(axis=1)[:, np.newaxis]\n",
    "        df_cm = pd.DataFrame(cm_norm)\n",
    "        sns.heatmap(df_cm, annot=True, cmap=\"Blues\", cbar=False)\n",
    "        plt.xlabel('Predicted label')\n",
    "        plt.ylabel('True label')\n",
    "        plt.title(f'Confusion matrix for {self.title}')"
   ]
  },
  {
   "cell_type": "code",
   "execution_count": null,
   "metadata": {},
   "outputs": [],
   "source": [
    "log_reg = Modeling(RandomForestClassifier(), \n",
    "                   X_train, X_test, \n",
    "                   'Logistic Regression')\n",
    "log_reg.fit_predict()\n",
    "log_reg.print_results()\n",
    "log_reg.add_to_table()"
   ]
  },
  {
   "cell_type": "code",
   "execution_count": null,
   "metadata": {},
   "outputs": [],
   "source": [
    "log"
   ]
  },
  {
   "cell_type": "code",
   "execution_count": null,
   "metadata": {},
   "outputs": [],
   "source": [
    "# SMOTE for Logistic Regression\n",
    "\n",
    "log_reg_smote = Modeling(LogisticRegression(), \n",
    "                         X_train, X_test,\n",
    "                         'Logistic Regression SMOTE')\n",
    "log_reg_smote.sample(SMOTE(sampling_strategy='minority'))\n",
    "log_reg_smote.fit_predict()\n",
    "log_reg_smote.print_results()\n",
    "log_reg_smote.plot_confusion_matrix()\n",
    "log_reg_smote.add_to_table()"
   ]
  },
  {
   "cell_type": "code",
   "execution_count": null,
   "metadata": {},
   "outputs": [],
   "source": [
    "! pip install imblearn\n",
    "from imblearn.over_sampling import SMOTE"
   ]
  },
  {
   "cell_type": "code",
   "execution_count": null,
   "metadata": {},
   "outputs": [],
   "source": [
    "# SMOTE for Logistic Regression\n",
    "\n",
    "log_reg_smote = Modeling(SVC(probability=True), \n",
    "                         X_train, X_test,\n",
    "                         'Logistic Regression SMOTE')\n",
    "log_reg_smote.sample(SMOTE(sampling_strategy='minority'))\n",
    "log_reg_smote.fit_predict()\n",
    "log_reg_smote.print_results()\n",
    "log_reg_smote.plot_confusion_matrix()\n",
    "log_reg_smote.add_to_table()"
   ]
  },
  {
   "cell_type": "code",
   "execution_count": null,
   "metadata": {},
   "outputs": [],
   "source": [
    "print(classification_report(y_test,log_reg.y_pred))"
   ]
  },
  {
   "cell_type": "code",
   "execution_count": null,
   "metadata": {},
   "outputs": [],
   "source": [
    "from sklearn.naive_bayes import MultinomialNB"
   ]
  },
  {
   "cell_type": "code",
   "execution_count": null,
   "metadata": {},
   "outputs": [],
   "source": [
    "bayes = Modeling(MultinomialNB(), \n",
    "                         X_train, X_test,\n",
    "                         'Bayes')\n",
    "bayes.sample(SMOTE(sampling_strategy='minority'))\n",
    "bayes.fit_predict()\n",
    "bayes.print_results()\n",
    "bayes.plot_confusion_matrix()\n",
    "bayes.add_to_table()"
   ]
  },
  {
   "cell_type": "code",
   "execution_count": null,
   "metadata": {},
   "outputs": [],
   "source": [
    "from xgboost import XGBClassifier"
   ]
  },
  {
   "cell_type": "code",
   "execution_count": null,
   "metadata": {},
   "outputs": [],
   "source": [
    "oversample = SMOTE()\n",
    "X_train_s, y_train_s = oversample.fit_resample(X_train, y_train)\n",
    "train = xgboost.DMatrix(X_train_s, label=y_train_s)\n",
    "test = xgboost.DMatrix(X_test, label=y_test)"
   ]
  },
  {
   "cell_type": "code",
   "execution_count": null,
   "metadata": {},
   "outputs": [],
   "source": [
    "param = {'max_depth':50, 'eta':0.5, 'objective': 'multi:softmax', 'num_class': 3}\n",
    "epochs=100\n",
    "bst = xgboost.train(param, train, epochs)\n",
    "# make prediction\n",
    "preds = bst.predict(test)\n",
    "print(classification_report(y_test,preds))"
   ]
  },
  {
   "cell_type": "code",
   "execution_count": null,
   "metadata": {},
   "outputs": [],
   "source": [
    "from gensim.models import Word2Vec"
   ]
  },
  {
   "cell_type": "code",
   "execution_count": null,
   "metadata": {},
   "outputs": [],
   "source": []
  }
 ],
 "metadata": {
  "hide_code_all_hidden": false,
  "hide_input": false,
  "kernelspec": {
   "display_name": "Python 3",
   "language": "python",
   "name": "python3"
  },
  "language_info": {
   "codemirror_mode": {
    "name": "ipython",
    "version": 3
   },
   "file_extension": ".py",
   "mimetype": "text/x-python",
   "name": "python",
   "nbconvert_exporter": "python",
   "pygments_lexer": "ipython3",
   "version": "3.8.4"
  }
 },
 "nbformat": 4,
 "nbformat_minor": 4
}
