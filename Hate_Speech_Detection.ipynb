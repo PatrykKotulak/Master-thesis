{
 "cells": [
  {
   "cell_type": "code",
   "execution_count": 2,
   "metadata": {
    "hideCode": false,
    "hidePrompt": false
   },
   "outputs": [],
   "source": [
    "# ignore future warning\n",
    "import warnings\n",
    "warnings.simplefilter(action=\"ignore\", category=FutureWarning)\n",
    "\n",
    "# processing of text\n",
    "from preprocessing import Preprocessing\n",
    "\n",
    "# models\n",
    "import torch\n",
    "import xgboost\n",
    "from model_functions import train_validation_test_split, split_train_val_test, Modeling, add_to_table_xgboost\n",
    "from sklearn.feature_extraction.text import CountVectorizer, TfidfVectorizer\n",
    "from sklearn.ensemble import RandomForestClassifier\n",
    "from sklearn.linear_model import LogisticRegression\n",
    "from sklearn.svm import SVC\n",
    "from sklearn.naive_bayes import MultinomialNB\n",
    "from sklearn.metrics import classification_report, confusion_matrix, accuracy_score\n",
    "from imblearn.over_sampling import SMOTE\n",
    "\n",
    "# inicjalize table for result\n",
    "result = ''"
   ]
  },
  {
   "cell_type": "code",
   "execution_count": 3,
   "metadata": {},
   "outputs": [],
   "source": [
    "data = Preprocessing()"
   ]
  },
  {
   "cell_type": "code",
   "execution_count": 4,
   "metadata": {},
   "outputs": [],
   "source": [
    "data.load_data()\n",
    "data.remove_quoting_comments()\n",
    "data.demojize()\n",
    "data.clean_text()\n",
    "data.stopwords_remove()\n",
    "data.lemmatize_text()\n",
    "data.correct_typo_words()\n",
    "data.token_join()\n",
    "data.write_to_file()"
   ]
  },
  {
   "cell_type": "markdown",
   "metadata": {},
   "source": [
    "# Model"
   ]
  },
  {
   "cell_type": "code",
   "execution_count": 14,
   "metadata": {},
   "outputs": [],
   "source": [
    "X_train, X_val, X_test, y_train, y_val, y_test = split_train_val_test()"
   ]
  },
  {
   "cell_type": "code",
   "execution_count": 15,
   "metadata": {},
   "outputs": [],
   "source": [
    "# tfidf_vectorizer = TfidfVectorizer()\n",
    "\n",
    "# # TF-IDF feature matrix\n",
    "# X_train = tfidf_vectorizer.fit_transform(X_train)\n",
    "# X_test = tfidf_vectorizer.transform(X_test)"
   ]
  },
  {
   "cell_type": "code",
   "execution_count": 17,
   "metadata": {},
   "outputs": [],
   "source": [
    "vectorizer = CountVectorizer()\n",
    "X_train = vectorizer.fit_transform(X_train.astype('U').values)\n",
    "X_val = vectorizer.transform(X_val.astype('U').values)"
   ]
  },
  {
   "cell_type": "code",
   "execution_count": 18,
   "metadata": {},
   "outputs": [],
   "source": [
    "classifier = RandomForestClassifier(n_estimators=1000, random_state=0)\n",
    "classifier.fit(X_train, y_train)\n",
    "y_pred = classifier.predict(X_val)"
   ]
  },
  {
   "cell_type": "code",
   "execution_count": 19,
   "metadata": {},
   "outputs": [
    {
     "name": "stdout",
     "output_type": "stream",
     "text": [
      "[[1812   76    2]\n",
      " [ 307  323    0]\n",
      " [   9    5    1]]\n",
      "              precision    recall  f1-score   support\n",
      "\n",
      "           0       0.85      0.96      0.90      1890\n",
      "           1       0.80      0.51      0.62       630\n",
      "           2       0.33      0.07      0.11        15\n",
      "\n",
      "    accuracy                           0.84      2535\n",
      "   macro avg       0.66      0.51      0.55      2535\n",
      "weighted avg       0.84      0.84      0.83      2535\n",
      "\n",
      "0.842603550295858\n"
     ]
    }
   ],
   "source": [
    "print(confusion_matrix(y_val,y_pred))\n",
    "print(classification_report(y_val,y_pred))\n",
    "print(accuracy_score(y_val, y_pred))"
   ]
  },
  {
   "cell_type": "code",
   "execution_count": 21,
   "metadata": {},
   "outputs": [
    {
     "name": "stdout",
     "output_type": "stream",
     "text": [
      "Results for Logistic Regression:\n",
      "Logistic Regression accuracy: 0.8406\n",
      "Logistic Regression f-score: 0.8256\n",
      "Logistic Regression recall: 0.8406\n"
     ]
    },
    {
     "name": "stderr",
     "output_type": "stream",
     "text": [
      "C:\\Users\\kotul\\anaconda3\\envs\\praca37\\lib\\site-packages\\sklearn\\utils\\validation.py:72: FutureWarning: Pass normalize=weighted as keyword args. From version 1.0 (renaming of 0.25) passing these as positional arguments will result in an error\n",
      "  \"will result in an error\", FutureWarning)\n"
     ]
    }
   ],
   "source": [
    "log_reg = Modeling(RandomForestClassifier(), \n",
    "                   X_train, X_val, y_train, y_val, result,\n",
    "                   'Logistic Regression')\n",
    "log_reg.fit_predict()\n",
    "log_reg.print_results()\n",
    "result = log_reg.add_to_table()"
   ]
  },
  {
   "cell_type": "code",
   "execution_count": 23,
   "metadata": {},
   "outputs": [
    {
     "data": {
      "image/png": "[encoded data removed]",
      "text/plain": [
       "<Figure size 720x720 with 1 Axes>"
      ]
     },
     "metadata": {},
     "output_type": "display_data"
    }
   ],
   "source": [
    "log_reg.plot_confusion_matrix_percent()"
   ]
  },
  {
   "cell_type": "code",
   "execution_count": null,
   "metadata": {},
   "outputs": [],
   "source": [
    "# Logistic Regression\n",
    "\n",
    "log_reg = Modeling(LogisticRegression(solver='saga'), \n",
    "                         X_train, X_val, y_train, y_val, result,\n",
    "                         'Logistic Regression')\n",
    "log_reg.fit_predict()\n",
    "log_reg.print_results()\n",
    "log_reg.plot_confusion_matrix()\n",
    "result = log_reg.add_to_table()"
   ]
  },
  {
   "cell_type": "code",
   "execution_count": 25,
   "metadata": {},
   "outputs": [
    {
     "name": "stderr",
     "output_type": "stream",
     "text": [
      "C:\\Users\\kotul\\anaconda3\\envs\\praca37\\lib\\site-packages\\sklearn\\linear_model\\_logistic.py:765: ConvergenceWarning: lbfgs failed to converge (status=1):\n",
      "STOP: TOTAL NO. of ITERATIONS REACHED LIMIT.\n",
      "\n",
      "Increase the number of iterations (max_iter) or scale the data as shown in:\n",
      "    https://scikit-learn.org/stable/modules/preprocessing.html\n",
      "Please also refer to the documentation for alternative solver options:\n",
      "    https://scikit-learn.org/stable/modules/linear_model.html#logistic-regression\n",
      "  extra_warning_msg=_LOGISTIC_SOLVER_CONVERGENCE_MSG)\n",
      "C:\\Users\\kotul\\anaconda3\\envs\\praca37\\lib\\site-packages\\sklearn\\utils\\validation.py:72: FutureWarning: Pass normalize=weighted as keyword args. From version 1.0 (renaming of 0.25) passing these as positional arguments will result in an error\n",
      "  \"will result in an error\", FutureWarning)\n"
     ]
    },
    {
     "name": "stdout",
     "output_type": "stream",
     "text": [
      "Results for Logistic Regression SMOTE:\n",
      "Logistic Regression SMOTE accuracy: 0.729\n",
      "Logistic Regression SMOTE f-score: 0.7764\n",
      "Logistic Regression SMOTE recall: 0.729\n"
     ]
    },
    {
     "data": {
      "image/png": "[encoded data removed]",
      "text/plain": [
       "<Figure size 720x720 with 1 Axes>"
      ]
     },
     "metadata": {},
     "output_type": "display_data"
    }
   ],
   "source": [
    "# SMOTE for Logistic Regression\n",
    "\n",
    "log_reg_smote = Modeling(LogisticRegression(solver='saga'), \n",
    "                         X_train, X_val, y_train, y_val, result,\n",
    "                         'Logistic Regression SMOTE')\n",
    "log_reg_smote.sample(SMOTE(sampling_strategy='minority'))\n",
    "log_reg_smote.fit_predict()\n",
    "log_reg_smote.print_results()\n",
    "log_reg_smote.plot_confusion_matrix()\n",
    "result = log_reg_smote.add_to_table()"
   ]
  },
  {
   "cell_type": "code",
   "execution_count": 26,
   "metadata": {},
   "outputs": [
    {
     "name": "stdout",
     "output_type": "stream",
     "text": [
      "Results for SVC:\n",
      "SVC accuracy: 0.826\n",
      "SVC f-score: 0.7973\n",
      "SVC recall: 0.826\n"
     ]
    },
    {
     "name": "stderr",
     "output_type": "stream",
     "text": [
      "C:\\Users\\kotul\\anaconda3\\envs\\praca37\\lib\\site-packages\\sklearn\\utils\\validation.py:72: FutureWarning: Pass normalize=weighted as keyword args. From version 1.0 (renaming of 0.25) passing these as positional arguments will result in an error\n",
      "  \"will result in an error\", FutureWarning)\n"
     ]
    },
    {
     "data": {
      "image/png": "[encoded data removed]",
      "text/plain": [
       "<Figure size 720x720 with 1 Axes>"
      ]
     },
     "metadata": {},
     "output_type": "display_data"
    }
   ],
   "source": [
    "# SMOTE for Logistic Regression\n",
    "\n",
    "svc = Modeling(SVC(probability=True), \n",
    "                          X_train, X_val, y_train, y_val, result,\n",
    "                         'SVC')\n",
    "svc.fit_predict()\n",
    "svc.print_results()\n",
    "svc.plot_confusion_matrix()\n",
    "result = svc.add_to_table()"
   ]
  },
  {
   "cell_type": "code",
   "execution_count": 27,
   "metadata": {},
   "outputs": [
    {
     "name": "stdout",
     "output_type": "stream",
     "text": [
      "Results for SVC SMOTE:\n",
      "SVC SMOTE accuracy: 0.789\n",
      "SVC SMOTE f-score: 0.7413\n",
      "SVC SMOTE recall: 0.789\n"
     ]
    },
    {
     "name": "stderr",
     "output_type": "stream",
     "text": [
      "C:\\Users\\kotul\\anaconda3\\envs\\praca37\\lib\\site-packages\\sklearn\\utils\\validation.py:72: FutureWarning: Pass normalize=weighted as keyword args. From version 1.0 (renaming of 0.25) passing these as positional arguments will result in an error\n",
      "  \"will result in an error\", FutureWarning)\n"
     ]
    },
    {
     "data": {
      "image/png": "[encoded data removed]",
      "text/plain": [
       "<Figure size 720x720 with 1 Axes>"
      ]
     },
     "metadata": {},
     "output_type": "display_data"
    }
   ],
   "source": [
    "# SMOTE for Logistic Regression\n",
    "\n",
    "svc_smote = Modeling(SVC(probability=True), \n",
    "                          X_train, X_val, y_train, y_val, result,\n",
    "                         'SVC SMOTE')\n",
    "svc_smote.sample(SMOTE(sampling_strategy='minority'))\n",
    "svc_smote.fit_predict()\n",
    "svc_smote.print_results()\n",
    "svc_smote.plot_confusion_matrix()\n",
    "result = svc_smote.add_to_table()"
   ]
  },
  {
   "cell_type": "code",
   "execution_count": null,
   "metadata": {},
   "outputs": [],
   "source": [
    "bayes = Modeling(MultinomialNB(), \n",
    "                          X_train, X_val, y_train, y_val, result,\n",
    "                         'Bayes')\n",
    "bayes.fit_predict()\n",
    "bayes.print_results()\n",
    "bayes.plot_confusion_matrix()\n",
    "result = bayes.add_to_table()"
   ]
  },
  {
   "cell_type": "code",
   "execution_count": 33,
   "metadata": {},
   "outputs": [
    {
     "name": "stdout",
     "output_type": "stream",
     "text": [
      "Results for Bayes:\n",
      "Bayes accuracy: 0.8296\n",
      "Bayes f-score: 0.8385\n",
      "Bayes recall: 0.8296\n"
     ]
    },
    {
     "data": {
      "image/png": "[encoded data removed]",
      "text/plain": [
       "<Figure size 720x720 with 1 Axes>"
      ]
     },
     "metadata": {},
     "output_type": "display_data"
    }
   ],
   "source": [
    "bayes_smote = Modeling(MultinomialNB(), \n",
    "                          X_train, X_val, y_train, y_val, result,\n",
    "                         'Bayes SMOTE')\n",
    "bayes_smote.sample(SMOTE(sampling_strategy='minority'))\n",
    "bayes_smote.fit_predict()\n",
    "bayes_smote.print_results()\n",
    "bayes_smote.plot_confusion_matrix()\n",
    "result = bayes_smote.add_to_table()"
   ]
  },
  {
   "cell_type": "code",
   "execution_count": 30,
   "metadata": {},
   "outputs": [],
   "source": [
    "oversample = SMOTE()\n",
    "X_train_s, y_train_s = oversample.fit_resample(X_train, y_train)\n",
    "train = xgboost.DMatrix(X_train_s, label=y_train_s)\n",
    "val = xgboost.DMatrix(X_val, label=y_val)"
   ]
  },
  {
   "cell_type": "code",
   "execution_count": 31,
   "metadata": {},
   "outputs": [
    {
     "name": "stdout",
     "output_type": "stream",
     "text": [
      "              precision    recall  f1-score   support\n",
      "\n",
      "           0       0.86      0.94      0.90      1890\n",
      "           1       0.74      0.55      0.63       630\n",
      "           2       0.25      0.07      0.11        15\n",
      "\n",
      "    accuracy                           0.84      2535\n",
      "   macro avg       0.62      0.52      0.54      2535\n",
      "weighted avg       0.83      0.84      0.83      2535\n",
      "\n"
     ]
    }
   ],
   "source": [
    "param = {'max_depth':50, 'eta':0.5, 'objective': 'multi:softmax', 'num_class': 3}\n",
    "epochs=100\n",
    "bst = xgboost.train(param, train, epochs)\n",
    "# make prediction\n",
    "preds = bst.predict(val)\n",
    "print(classification_report(y_val,preds))"
   ]
  },
  {
   "cell_type": "code",
   "execution_count": 67,
   "metadata": {},
   "outputs": [],
   "source": [
    "result = add_to_table_xgboost(y_val, preds, result, 'XGboost')"
   ]
  },
  {
   "cell_type": "code",
   "execution_count": 69,
   "metadata": {},
   "outputs": [
    {
     "data": {
      "text/html": [
       "<div>\n",
       "<style scoped>\n",
       "    .dataframe tbody tr th:only-of-type {\n",
       "        vertical-align: middle;\n",
       "    }\n",
       "\n",
       "    .dataframe tbody tr th {\n",
       "        vertical-align: top;\n",
       "    }\n",
       "\n",
       "    .dataframe thead th {\n",
       "        text-align: right;\n",
       "    }\n",
       "</style>\n",
       "<table border=\"1\" class=\"dataframe\">\n",
       "  <thead>\n",
       "    <tr style=\"text-align: right;\">\n",
       "      <th></th>\n",
       "      <th>Accuracy</th>\n",
       "      <th>F-score</th>\n",
       "      <th>Recall</th>\n",
       "    </tr>\n",
       "  </thead>\n",
       "  <tbody>\n",
       "    <tr>\n",
       "      <th>Logistic Regression</th>\n",
       "      <td>0.8375</td>\n",
       "      <td>0.8225</td>\n",
       "      <td>0.8375</td>\n",
       "    </tr>\n",
       "    <tr>\n",
       "      <th>Logistic Regression</th>\n",
       "      <td>0.8406</td>\n",
       "      <td>0.8256</td>\n",
       "      <td>0.8406</td>\n",
       "    </tr>\n",
       "    <tr>\n",
       "      <th>Logistic Regression</th>\n",
       "      <td>0.8394</td>\n",
       "      <td>0.8246</td>\n",
       "      <td>0.8394</td>\n",
       "    </tr>\n",
       "    <tr>\n",
       "      <th>Logistic Regression SMOTE</th>\n",
       "      <td>0.7290</td>\n",
       "      <td>0.7764</td>\n",
       "      <td>0.7290</td>\n",
       "    </tr>\n",
       "    <tr>\n",
       "      <th>SVC</th>\n",
       "      <td>0.8260</td>\n",
       "      <td>0.7973</td>\n",
       "      <td>0.8260</td>\n",
       "    </tr>\n",
       "    <tr>\n",
       "      <th>SVC SMOTE</th>\n",
       "      <td>0.7890</td>\n",
       "      <td>0.7413</td>\n",
       "      <td>0.7890</td>\n",
       "    </tr>\n",
       "    <tr>\n",
       "      <th>Bayes</th>\n",
       "      <td>0.8296</td>\n",
       "      <td>0.8388</td>\n",
       "      <td>0.8296</td>\n",
       "    </tr>\n",
       "    <tr>\n",
       "      <th>Bayes</th>\n",
       "      <td>0.8296</td>\n",
       "      <td>0.8385</td>\n",
       "      <td>0.8296</td>\n",
       "    </tr>\n",
       "    <tr>\n",
       "      <th>XGboost</th>\n",
       "      <td>0.8359</td>\n",
       "      <td>0.8257</td>\n",
       "      <td>0.8359</td>\n",
       "    </tr>\n",
       "  </tbody>\n",
       "</table>\n",
       "</div>"
      ],
      "text/plain": [
       "                           Accuracy  F-score  Recall\n",
       "Logistic Regression          0.8375   0.8225  0.8375\n",
       "Logistic Regression          0.8406   0.8256  0.8406\n",
       "Logistic Regression          0.8394   0.8246  0.8394\n",
       "Logistic Regression SMOTE    0.7290   0.7764  0.7290\n",
       "SVC                          0.8260   0.7973  0.8260\n",
       "SVC SMOTE                    0.7890   0.7413  0.7890\n",
       "Bayes                        0.8296   0.8388  0.8296\n",
       "Bayes                        0.8296   0.8385  0.8296\n",
       "XGboost                      0.8359   0.8257  0.8359"
      ]
     },
     "execution_count": 69,
     "metadata": {},
     "output_type": "execute_result"
    }
   ],
   "source": [
    "result.transpose()"
   ]
  },
  {
   "cell_type": "code",
   "execution_count": null,
   "metadata": {},
   "outputs": [],
   "source": []
  }
 ],
 "metadata": {
  "hide_code_all_hidden": false,
  "hide_input": false,
  "kernelspec": {
   "display_name": "Python 3",
   "language": "python",
   "name": "python3"
  },
  "language_info": {
   "codemirror_mode": {
    "name": "ipython",
    "version": 3
   },
   "file_extension": ".py",
   "mimetype": "text/x-python",
   "name": "python",
   "nbconvert_exporter": "python",
   "pygments_lexer": "ipython3",
   "version": "3.7.10"
  }
 },
 "nbformat": 4,
 "nbformat_minor": 4
}
