{
 "cells": [
  {
   "cell_type": "code",
   "execution_count": 1,
   "metadata": {},
   "outputs": [
    {
     "data": {
      "text/html": [
       "<style type=\"text/css\">\n",
       "table.dataframe td, table.dataframe th {\n",
       "    border: 1px grey solid !important;\n",
       "  color: black !important;\n",
       "}\n",
       "</style>\n"
      ],
      "text/plain": [
       "<IPython.core.display.HTML object>"
      ]
     },
     "metadata": {},
     "output_type": "display_data"
    }
   ],
   "source": [
    "%%HTML\n",
    "<style type=\"text/css\">\n",
    "table.dataframe td, table.dataframe th {\n",
    "    border: 1px grey solid !important;\n",
    "  color: black !important;\n",
    "}\n",
    "</style>"
   ]
  },
  {
   "cell_type": "code",
   "execution_count": 2,
   "metadata": {
    "hideCode": false,
    "hidePrompt": false
   },
   "outputs": [],
   "source": [
    "# ignore future warning\n",
    "import warnings\n",
    "warnings.simplefilter(action=\"ignore\", category=FutureWarning)\n",
    "\n",
    "import re\n",
    "import time\n",
    "\n",
    "# processing of text\n",
    "from preprocessing import Preprocessing\n",
    "\n",
    "# models\n",
    "import torch\n",
    "import torch.nn as nn\n",
    "import torch.optim as optim\n",
    "import torch.nn.functional as F\n",
    "from torch.utils.data import Dataset, TensorDataset\n",
    "from torch.utils.data import DataLoader\n",
    "import torchtext\n",
    "from torchtext.legacy import data as dt\n",
    "from model_functions import *\n",
    "from model_torch import *\n",
    "from argparse import Namespace\n",
    "from sklearn.feature_extraction.text import CountVectorizer, TfidfVectorizer\n",
    "from sklearn.ensemble import RandomForestClassifier\n",
    "from sklearn.linear_model import LogisticRegression\n",
    "from sklearn.svm import SVC\n",
    "from sklearn.naive_bayes import MultinomialNB\n",
    "from sklearn.metrics import classification_report, confusion_matrix, accuracy_score, precision_score, roc_auc_score\n",
    "from imblearn.over_sampling import SMOTE\n",
    "\n",
    "# inicjalize table for result\n",
    "result = ''"
   ]
  },
  {
   "cell_type": "code",
   "execution_count": 3,
   "metadata": {},
   "outputs": [],
   "source": [
    "data = Preprocessing()"
   ]
  },
  {
   "cell_type": "code",
   "execution_count": 4,
   "metadata": {},
   "outputs": [],
   "source": [
    "# data.load_data()\n",
    "# data.remove_quoting_comments()\n",
    "# data.demojize()\n",
    "# data.clean_text(with_emoji=True)\n",
    "# data.stopwords_remove()\n",
    "# data.lemmatize_text()\n",
    "# data.correct_typo_words()\n",
    "# data.token_join()\n",
    "# data.write_to_file(name='cleaned_data_binary')"
   ]
  },
  {
   "cell_type": "code",
   "execution_count": 5,
   "metadata": {},
   "outputs": [],
   "source": [
    "args = Namespace(\n",
    "    path_model=\"cleaned_data_binary_with_stopwords_without_emoji\",\n",
    "    path_torch=\"cleaned_data.csv\",\n",
    "    vocab_size = 400000,\n",
    "    BATCH_SIZE = 64,\n",
    "    EMBEDDING_DIM = 100,\n",
    "    HIDDEN_DIM = 256,\n",
    "    OUTPUT_DIM = 3,\n",
    "    N_LAYERS = 2,\n",
    "    BIDIRECTIONAL = True,\n",
    "    DROPOUT = 0.5,\n",
    "    N_EPOCHS = 15,\n",
    ")"
   ]
  },
  {
   "cell_type": "markdown",
   "metadata": {},
   "source": [
    "# Model"
   ]
  },
  {
   "cell_type": "code",
   "execution_count": 6,
   "metadata": {},
   "outputs": [],
   "source": [
    "data.split_train_val_test(file_name=args.path_model)\n",
    "data.tfidf_vectorizer()\n",
    "data.count_vectorizer()"
   ]
  },
  {
   "cell_type": "markdown",
   "metadata": {},
   "source": [
    "### TFIDF VEctorizer"
   ]
  },
  {
   "cell_type": "code",
   "execution_count": 7,
   "metadata": {},
   "outputs": [
    {
     "name": "stdout",
     "output_type": "stream",
     "text": [
      "Results for Random Forest TFIDF:\n",
      "Random Forest TFIDF accuracy: 0.8306\n",
      "Random Forest TFIDF f-score: 0.8019\n",
      "Random Forest TFIDF recall: 0.8306\n"
     ]
    },
    {
     "data": {
      "image/png": "[encoded data removed]",
      "text/plain": [
       "<Figure size 720x720 with 1 Axes>"
      ]
     },
     "metadata": {},
     "output_type": "display_data"
    }
   ],
   "source": [
    "# Random Forest\n",
    "\n",
    "rf = Modeling(RandomForestClassifier(n_estimators=1000, random_state=0), \n",
    "              data.X_train_tfidf, data.X_val_tfidf, data.y_train, data.y_val, result,\n",
    "              'Random Forest TFIDF')\n",
    "rf.fit_predict()\n",
    "rf.print_results()\n",
    "rf.plot_confusion_matrix()\n",
    "result = rf.add_to_table()"
   ]
  },
  {
   "cell_type": "code",
   "execution_count": 8,
   "metadata": {},
   "outputs": [
    {
     "name": "stdout",
     "output_type": "stream",
     "text": [
      "Results for Logistic Regression TFIDF:\n",
      "Logistic Regression TFIDF accuracy: 0.8243\n",
      "Logistic Regression TFIDF f-score: 0.7968\n",
      "Logistic Regression TFIDF recall: 0.8243\n"
     ]
    },
    {
     "data": {
      "image/png": "[encoded data removed]",
      "text/plain": [
       "<Figure size 720x720 with 1 Axes>"
      ]
     },
     "metadata": {},
     "output_type": "display_data"
    }
   ],
   "source": [
    "# Logistic Regression\n",
    "\n",
    "log_reg = Modeling(LogisticRegression(solver='newton-cg'), \n",
    "                   data.X_train_tfidf, data.X_val_tfidf, data.y_train, data.y_val, result,\n",
    "                   'Logistic Regression TFIDF')\n",
    "log_reg.fit_predict()\n",
    "log_reg.print_results()\n",
    "log_reg.plot_confusion_matrix()\n",
    "result = log_reg.add_to_table()"
   ]
  },
  {
   "cell_type": "code",
   "execution_count": 9,
   "metadata": {},
   "outputs": [],
   "source": [
    "# SMOTE for Logistic Regression\n",
    "\n",
    "# log_reg_smote = Modeling(LogisticRegression(solver='newton-cg'), \n",
    "#                          data.X_train_tfidf, data.X_val_tfidf, data.y_train, data.y_val, result,\n",
    "#                          'Logistic Regression SMOTE TFIDF')\n",
    "# log_reg_smote.sample(SMOTE(sampling_strategy='minority'))\n",
    "# log_reg_smote.fit_predict()\n",
    "# log_reg_smote.print_results()\n",
    "# log_reg_smote.plot_confusion_matrix()\n",
    "# result = log_reg_smote.add_to_table()"
   ]
  },
  {
   "cell_type": "code",
   "execution_count": 10,
   "metadata": {},
   "outputs": [
    {
     "name": "stdout",
     "output_type": "stream",
     "text": [
      "Results for SVC TFIDF:\n",
      "SVC TFIDF accuracy: 0.8401\n",
      "SVC TFIDF f-score: 0.8172\n",
      "SVC TFIDF recall: 0.8401\n"
     ]
    },
    {
     "data": {
      "image/png": "[encoded data removed]",
      "text/plain": [
       "<Figure size 720x720 with 1 Axes>"
      ]
     },
     "metadata": {},
     "output_type": "display_data"
    }
   ],
   "source": [
    "# SVC\n",
    "\n",
    "svc = Modeling(SVC(probability=True), \n",
    "               data.X_train_tfidf, data.X_val_tfidf, data.y_train, data.y_val, result,\n",
    "               'SVC TFIDF')\n",
    "svc.fit_predict()\n",
    "svc.print_results()\n",
    "svc.plot_confusion_matrix()\n",
    "result = svc.add_to_table()"
   ]
  },
  {
   "cell_type": "code",
   "execution_count": 11,
   "metadata": {
    "scrolled": true
   },
   "outputs": [],
   "source": [
    "# SMOTE for SVC\n",
    "\n",
    "# svc_smote = Modeling(SVC(probability=True), \n",
    "#                      data.X_train_tfidf, data.X_val_tfidf, data.y_train, data.y_val, result,\n",
    "#                      'SVC SMOTE TFIDF')\n",
    "# svc_smote.sample(SMOTE(sampling_strategy='minority'))\n",
    "# svc_smote.fit_predict()\n",
    "# svc_smote.print_results()\n",
    "# svc_smote.plot_confusion_matrix()\n",
    "# result = svc_smote.add_to_table()"
   ]
  },
  {
   "cell_type": "code",
   "execution_count": 12,
   "metadata": {},
   "outputs": [
    {
     "name": "stdout",
     "output_type": "stream",
     "text": [
      "Results for Bayes TFIDF:\n",
      "Bayes TFIDF accuracy: 0.7912\n",
      "Bayes TFIDF f-score: 0.7342\n",
      "Bayes TFIDF recall: 0.7912\n"
     ]
    },
    {
     "data": {
      "image/png": "[encoded data removed]",
      "text/plain": [
       "<Figure size 720x720 with 1 Axes>"
      ]
     },
     "metadata": {},
     "output_type": "display_data"
    }
   ],
   "source": [
    "# Bayes\n",
    "\n",
    "bayes = Modeling(MultinomialNB(), \n",
    "                 data.X_train_tfidf, data.X_val_tfidf, data.y_train, data.y_val, result,\n",
    "                 'Bayes TFIDF')\n",
    "bayes.fit_predict()\n",
    "bayes.print_results()\n",
    "bayes.plot_confusion_matrix()\n",
    "result = bayes.add_to_table()"
   ]
  },
  {
   "cell_type": "code",
   "execution_count": 13,
   "metadata": {},
   "outputs": [],
   "source": [
    "# SMOTE for Bayes\n",
    "\n",
    "# bayes_smote = Modeling(MultinomialNB(), \n",
    "#                        data.X_train_tfidf, data.X_val_tfidf, data.y_train, data.y_val, result,\n",
    "#                        'Bayes SMOTE TFIDF')\n",
    "# bayes_smote.sample(SMOTE(sampling_strategy='minority'))\n",
    "# bayes_smote.fit_predict()\n",
    "# bayes_smote.print_results()\n",
    "# bayes_smote.plot_confusion_matrix()\n",
    "# result = bayes_smote.add_to_table()"
   ]
  },
  {
   "cell_type": "code",
   "execution_count": 14,
   "metadata": {},
   "outputs": [
    {
     "data": {
      "image/png": "[encoded data removed]",
      "text/plain": [
       "<Figure size 720x720 with 1 Axes>"
      ]
     },
     "metadata": {},
     "output_type": "display_data"
    }
   ],
   "source": [
    "# XGBoost\n",
    "\n",
    "y_pred = XG_boost(data.X_train_tfidf, data.y_train, data.X_val_cv, data.y_val)\n",
    "result = add_to_table_xgboost(data.y_val,\n",
    "                              y_pred,\n",
    "                              result,\n",
    "                              'XGBoost TFIDF')\n",
    "plot_confusion_matrix(data.y_val, y_pred, 'XGBoost TFIDF')"
   ]
  },
  {
   "cell_type": "code",
   "execution_count": 15,
   "metadata": {},
   "outputs": [],
   "source": [
    "# XGBoost smote\n",
    "\n",
    "# y_pred = XG_boost_smote(data.X_train_tfidf, data.y_train, data.X_val_cv, data.y_val)\n",
    "# result = add_to_table_xgboost(data.y_val,\n",
    "#                               y_pred,\n",
    "#                               result,\n",
    "#                               'XGBoost Smote TFIDF')\n",
    "# plot_confusion_matrix(data.y_val, y_pred, 'XGBoost Smote TFIDF')"
   ]
  },
  {
   "cell_type": "markdown",
   "metadata": {},
   "source": [
    "### Count Vectorizer"
   ]
  },
  {
   "cell_type": "code",
   "execution_count": 16,
   "metadata": {},
   "outputs": [],
   "source": [
    "# # Random Forest\n",
    "\n",
    "# rf_cv = Modeling(RandomForestClassifier(n_estimators=1000, random_state=0), \n",
    "#               data.X_train_cv, data.X_val_cv, data.y_train, data.y_val, result,\n",
    "#               'Random Forest CV')\n",
    "# rf_cv.fit_predict()\n",
    "# rf_cv.print_results()\n",
    "# result = rf_cv.add_to_table()"
   ]
  },
  {
   "cell_type": "code",
   "execution_count": 17,
   "metadata": {},
   "outputs": [],
   "source": [
    "# # Random Forest SMOTE\n",
    "\n",
    "# rf_cv_smote = Modeling(RandomForestClassifier(n_estimators=1000, random_state=0), \n",
    "#               data.X_train_cv, data.X_val_cv, data.y_train, data.y_val, result,\n",
    "#               'Random Forest SMOTE CV')\n",
    "# rf_cv_smote.sample(SMOTE(sampling_strategy='minority'))\n",
    "# rf_cv_smote.fit_predict()\n",
    "# rf_cv_smote.print_results()\n",
    "# result = rf_cv_smote.add_to_table()"
   ]
  },
  {
   "cell_type": "code",
   "execution_count": 18,
   "metadata": {},
   "outputs": [],
   "source": [
    "# # Logistic Regression\n",
    "\n",
    "# log_reg_cv = Modeling(LogisticRegression(solver='newton-cg'), \n",
    "#                    data.X_train_cv, data.X_val_cv, data.y_train, data.y_val, result,\n",
    "#                    'Logistic Regression CV')\n",
    "# log_reg_cv.fit_predict()\n",
    "# log_reg_cv.print_results()\n",
    "# log_reg_cv.plot_confusion_matrix()\n",
    "# result = log_reg_cv.add_to_table()"
   ]
  },
  {
   "cell_type": "code",
   "execution_count": 19,
   "metadata": {},
   "outputs": [],
   "source": [
    "# # SMOTE for Logistic Regression\n",
    "\n",
    "# log_reg_smote_cv = Modeling(LogisticRegression(solver='newton-cg'), \n",
    "#                          data.X_train_cv, data.X_val_cv, data.y_train, data.y_val, result,\n",
    "#                          'Logistic Regression SMOTE CV')\n",
    "# log_reg_smote_cv.sample(SMOTE(sampling_strategy='minority'))\n",
    "# log_reg_smote_cv.fit_predict()\n",
    "# log_reg_smote_cv.print_results()\n",
    "# log_reg_smote_cv.plot_confusion_matrix()\n",
    "# result = log_reg_smote_cv.add_to_table()"
   ]
  },
  {
   "cell_type": "code",
   "execution_count": 20,
   "metadata": {},
   "outputs": [],
   "source": [
    "# # SVC\n",
    "\n",
    "# svc_cv = Modeling(SVC(probability=True), \n",
    "#                data.X_train_cv, data.X_val_cv, data.y_train, data.y_val, result,\n",
    "#                'SVC CV')\n",
    "# svc_cv.fit_predict()\n",
    "# svc_cv.print_results()\n",
    "# svc_cv.plot_confusion_matrix()\n",
    "# result = svc_cv.add_to_table()"
   ]
  },
  {
   "cell_type": "code",
   "execution_count": 21,
   "metadata": {},
   "outputs": [],
   "source": [
    "# # SMOTE for SVC\n",
    "\n",
    "# svc_smote_cv = Modeling(SVC(probability=True), \n",
    "#                      data.X_train_cv, data.X_val_cv, data.y_train, data.y_val, result,\n",
    "#                      'SVC SMOTE CV')\n",
    "# svc_smote_cv.sample(SMOTE(sampling_strategy='minority'))\n",
    "# svc_smote_cv.fit_predict()\n",
    "# svc_smote_cv.print_results()\n",
    "# svc_smote_cv.plot_confusion_matrix()\n",
    "# result = svc_smote_cv.add_to_table()"
   ]
  },
  {
   "cell_type": "code",
   "execution_count": 22,
   "metadata": {},
   "outputs": [],
   "source": [
    "# # Bayes\n",
    "\n",
    "# bayes_cv = Modeling(MultinomialNB(), \n",
    "#                  data.X_train_cv, data.X_val_cv, data.y_train, data.y_val, result,\n",
    "#                  'Bayes CV')\n",
    "# bayes_cv.fit_predict()\n",
    "# bayes_cv.print_results()\n",
    "# bayes_cv.plot_confusion_matrix()\n",
    "# result = bayes_cv.add_to_table()"
   ]
  },
  {
   "cell_type": "code",
   "execution_count": 23,
   "metadata": {},
   "outputs": [],
   "source": [
    "# # SMOTE for Bayes\n",
    "\n",
    "# bayes_smote_cv = Modeling(MultinomialNB(), \n",
    "#                        data.X_train_cv, data.X_val_cv, data.y_train, data.y_val, result,\n",
    "#                        'Bayes SMOTE CV')\n",
    "# bayes_smote_cv.sample(SMOTE(sampling_strategy='minority'))\n",
    "# bayes_smote_cv.fit_predict()\n",
    "# bayes_smote_cv.print_results()\n",
    "# bayes_smote_cv.plot_confusion_matrix()\n",
    "# result = bayes_smote_cv.add_to_table()"
   ]
  },
  {
   "cell_type": "code",
   "execution_count": 24,
   "metadata": {},
   "outputs": [],
   "source": [
    "# # XGBoost\n",
    "\n",
    "# y_pred = XG_boost(data.X_train_cv, data.y_train, data.X_val_cv, data.y_val)\n",
    "# result = add_to_table_xgboost(data.y_val,\n",
    "#                               y_pred,\n",
    "#                               result,\n",
    "#                               'XGBoost CV')\n",
    "# plot_confusion_matrix(data.y_val, y_pred, 'XGBoost CV')"
   ]
  },
  {
   "cell_type": "code",
   "execution_count": 25,
   "metadata": {},
   "outputs": [],
   "source": [
    "# # XGBoost smote\n",
    "\n",
    "# y_pred = XG_boost_smote(data.X_train_cv, data.y_train, data.X_val_cv, data.y_val)\n",
    "# result = add_to_table_xgboost(data.y_val,\n",
    "#                               y_pred,\n",
    "#                               result,\n",
    "#                               'XGBoost SMOTE CV')\n",
    "# plot_confusion_matrix(data.y_val, y_pred, 'XGBoost Smote CV')"
   ]
  },
  {
   "cell_type": "markdown",
   "metadata": {},
   "source": [
    "### Gensim for the best model"
   ]
  },
  {
   "cell_type": "code",
   "execution_count": 26,
   "metadata": {
    "scrolled": true
   },
   "outputs": [
    {
     "data": {
      "image/png": "[encoded data removed]",
      "text/plain": [
       "<Figure size 720x720 with 1 Axes>"
      ]
     },
     "metadata": {},
     "output_type": "display_data"
    }
   ],
   "source": [
    "y_pred_g = XG_boost_gensim(data.X_train, data.X_val, data.y_train)\n",
    "result = add_to_table_xgboost(data.y_val,\n",
    "                              y_pred_g,\n",
    "                              result,\n",
    "                              'XGBoost Gensim')\n",
    "plot_confusion_matrix(data.y_val, y_pred_g, 'XGBoost Gensim')"
   ]
  },
  {
   "cell_type": "code",
   "execution_count": 27,
   "metadata": {
    "scrolled": true
   },
   "outputs": [
    {
     "data": {
      "text/html": [
       "<div>\n",
       "<style scoped>\n",
       "    .dataframe tbody tr th:only-of-type {\n",
       "        vertical-align: middle;\n",
       "    }\n",
       "\n",
       "    .dataframe tbody tr th {\n",
       "        vertical-align: top;\n",
       "    }\n",
       "\n",
       "    .dataframe thead th {\n",
       "        text-align: right;\n",
       "    }\n",
       "</style>\n",
       "<table border=\"1\" class=\"dataframe\">\n",
       "  <thead>\n",
       "    <tr style=\"text-align: right;\">\n",
       "      <th></th>\n",
       "      <th>Accuracy</th>\n",
       "      <th>F-score</th>\n",
       "      <th>Recall</th>\n",
       "    </tr>\n",
       "  </thead>\n",
       "  <tbody>\n",
       "    <tr>\n",
       "      <th>SVC TFIDF</th>\n",
       "      <td>0.8401</td>\n",
       "      <td>0.8172</td>\n",
       "      <td>0.8401</td>\n",
       "    </tr>\n",
       "    <tr>\n",
       "      <th>Random Forest TFIDF</th>\n",
       "      <td>0.8306</td>\n",
       "      <td>0.8019</td>\n",
       "      <td>0.8306</td>\n",
       "    </tr>\n",
       "    <tr>\n",
       "      <th>Logistic Regression TFIDF</th>\n",
       "      <td>0.8243</td>\n",
       "      <td>0.7968</td>\n",
       "      <td>0.8243</td>\n",
       "    </tr>\n",
       "    <tr>\n",
       "      <th>Bayes TFIDF</th>\n",
       "      <td>0.7912</td>\n",
       "      <td>0.7342</td>\n",
       "      <td>0.7912</td>\n",
       "    </tr>\n",
       "    <tr>\n",
       "      <th>XGBoost TFIDF</th>\n",
       "      <td>0.7685</td>\n",
       "      <td>0.7306</td>\n",
       "      <td>0.7685</td>\n",
       "    </tr>\n",
       "    <tr>\n",
       "      <th>XGBoost Gensim</th>\n",
       "      <td>0.7570</td>\n",
       "      <td>0.6697</td>\n",
       "      <td>0.7570</td>\n",
       "    </tr>\n",
       "  </tbody>\n",
       "</table>\n",
       "</div>"
      ],
      "text/plain": [
       "                           Accuracy  F-score  Recall\n",
       "SVC TFIDF                    0.8401   0.8172  0.8401\n",
       "Random Forest TFIDF          0.8306   0.8019  0.8306\n",
       "Logistic Regression TFIDF    0.8243   0.7968  0.8243\n",
       "Bayes TFIDF                  0.7912   0.7342  0.7912\n",
       "XGBoost TFIDF                0.7685   0.7306  0.7685\n",
       "XGBoost Gensim               0.7570   0.6697  0.7570"
      ]
     },
     "execution_count": 27,
     "metadata": {},
     "output_type": "execute_result"
    }
   ],
   "source": [
    "result.transpose().sort_values(by='F-score', ascending=False)"
   ]
  },
  {
   "cell_type": "markdown",
   "metadata": {},
   "source": [
    "### LSTM"
   ]
  },
  {
   "cell_type": "code",
   "execution_count": 24,
   "metadata": {},
   "outputs": [],
   "source": [
    "LABEL = dt.LabelField(dtype = torch.long)\n",
    "TEXT = dt.Field(tokenize=simple_tokinizer, include_lengths = True)\n",
    "fields = [('text', TEXT), ('label', LABEL)]\n",
    "\n",
    "twitterDataset = torchtext.legacy.data.TabularDataset(\n",
    "        args.path_torch, \n",
    "        format=\"CSV\", \n",
    "        fields=fields,\n",
    "        skip_header=True)\n",
    "\n",
    "train_data, valid_data, test_data = twitterDataset.split(split_ratio=[0.7,0.15,0.15])\n",
    "\n",
    "TEXT.build_vocab(train_data, max_size=args.vocab_size)\n",
    "\n",
    "LABEL.build_vocab(train_data)\n",
    "\n",
    "device = torch.device('cuda' if torch.cuda.is_available() else 'cpu')\n",
    "\n",
    "train_iterator, valid_iterator, test_iterator = dt.BucketIterator.splits(\n",
    "    (train_data, valid_data, test_data), \n",
    "    batch_size = args.BATCH_SIZE,\n",
    "    sort_within_batch = True,\n",
    "    sort_key = lambda x: len(x.text))\n",
    "\n",
    "\n",
    "model = RNN(len(TEXT.vocab), \n",
    "            args.EMBEDDING_DIM, \n",
    "            args.HIDDEN_DIM, \n",
    "            args.OUTPUT_DIM, \n",
    "            args.N_LAYERS, \n",
    "            args.BIDIRECTIONAL, \n",
    "            args.DROPOUT, \n",
    "            TEXT.vocab.stoi[TEXT.pad_token])\n",
    "\n",
    "optimizer = optim.Adam(model.parameters())\n",
    "\n",
    "\n",
    "criterion = nn.CrossEntropyLoss() \n",
    "model = model.to(device)\n",
    "criterion = criterion.to(device)"
   ]
  },
  {
   "cell_type": "code",
   "execution_count": 25,
   "metadata": {},
   "outputs": [
    {
     "name": "stdout",
     "output_type": "stream",
     "text": [
      "Epoch: 01 | Epoch Time: 0m 1s\n",
      "\tTrain Loss: 1.084 | Train Acc: 46.17% | Train prec: 48.77%\n",
      "\t Val. Loss: 1.034 |  Val. Acc: 63.64% | Valid prec: 40.50%\n",
      "Epoch: 02 | Epoch Time: 0m 1s\n",
      "\tTrain Loss: 1.026 | Train Acc: 62.30% | Train prec: 46.53%\n",
      "\t Val. Loss: 0.974 |  Val. Acc: 63.64% | Valid prec: 40.50%\n",
      "Epoch: 03 | Epoch Time: 0m 1s\n",
      "\tTrain Loss: 0.967 | Train Acc: 61.52% | Train prec: 37.91%\n",
      "\t Val. Loss: 0.911 |  Val. Acc: 63.64% | Valid prec: 40.50%\n",
      "Epoch: 04 | Epoch Time: 0m 1s\n",
      "\tTrain Loss: 0.891 | Train Acc: 62.30% | Train prec: 51.52%\n",
      "\t Val. Loss: 0.857 |  Val. Acc: 63.64% | Valid prec: 40.50%\n",
      "Epoch: 05 | Epoch Time: 0m 1s\n",
      "\tTrain Loss: 0.834 | Train Acc: 61.02% | Train prec: 37.44%\n",
      "\t Val. Loss: 0.881 |  Val. Acc: 63.64% | Valid prec: 40.50%\n",
      "Epoch: 06 | Epoch Time: 0m 1s\n",
      "\tTrain Loss: 0.821 | Train Acc: 61.52% | Train prec: 37.91%\n",
      "\t Val. Loss: 0.944 |  Val. Acc: 63.64% | Valid prec: 40.50%\n",
      "Epoch: 07 | Epoch Time: 0m 1s\n",
      "\tTrain Loss: 0.739 | Train Acc: 61.80% | Train prec: 51.07%\n",
      "\t Val. Loss: 0.900 |  Val. Acc: 63.64% | Valid prec: 40.50%\n",
      "Epoch: 08 | Epoch Time: 0m 1s\n",
      "\tTrain Loss: 0.651 | Train Acc: 72.84% | Train prec: 72.67%\n",
      "\t Val. Loss: 0.860 |  Val. Acc: 63.64% | Valid prec: 40.50%\n",
      "Epoch: 09 | Epoch Time: 0m 1s\n",
      "\tTrain Loss: 0.641 | Train Acc: 79.31% | Train prec: 74.37%\n",
      "\t Val. Loss: 0.864 |  Val. Acc: 63.64% | Valid prec: 40.50%\n",
      "Epoch: 10 | Epoch Time: 0m 1s\n",
      "\tTrain Loss: 0.581 | Train Acc: 80.87% | Train prec: 75.55%\n",
      "\t Val. Loss: 0.968 |  Val. Acc: 63.64% | Valid prec: 40.50%\n",
      "Epoch: 11 | Epoch Time: 0m 2s\n",
      "\tTrain Loss: 0.488 | Train Acc: 83.93% | Train prec: 77.20%\n",
      "\t Val. Loss: 1.260 |  Val. Acc: 63.64% | Valid prec: 40.50%\n",
      "Epoch: 12 | Epoch Time: 0m 1s\n",
      "\tTrain Loss: 0.377 | Train Acc: 85.22% | Train prec: 77.94%\n",
      "\t Val. Loss: 1.675 |  Val. Acc: 63.64% | Valid prec: 40.50%\n",
      "Epoch: 13 | Epoch Time: 0m 1s\n",
      "\tTrain Loss: 0.344 | Train Acc: 88.34% | Train prec: 89.45%\n",
      "\t Val. Loss: 2.013 |  Val. Acc: 63.64% | Valid prec: 40.50%\n",
      "Epoch: 14 | Epoch Time: 0m 1s\n",
      "\tTrain Loss: 0.376 | Train Acc: 86.00% | Train prec: 83.24%\n",
      "\t Val. Loss: 1.980 |  Val. Acc: 63.64% | Valid prec: 40.50%\n",
      "Epoch: 15 | Epoch Time: 0m 2s\n",
      "\tTrain Loss: 0.250 | Train Acc: 89.40% | Train prec: 85.45%\n",
      "\t Val. Loss: 2.014 |  Val. Acc: 68.18% | Valid prec: 65.15%\n"
     ]
    }
   ],
   "source": [
    "# args.N_EPOCHS = 15\n",
    "\n",
    "best_valid_loss = float('inf')\n",
    "\n",
    "for epoch in range(args.N_EPOCHS):\n",
    "\n",
    "    start_time = time.time()\n",
    "\n",
    "    train_loss, train_acc, train_prec = train(model, train_iterator, optimizer, criterion)\n",
    "    valid_loss, valid_acc, valid_prec = evaluate(model, valid_iterator, criterion)\n",
    "\n",
    "    end_time = time.time()\n",
    "\n",
    "    epoch_mins, epoch_secs = epoch_time(start_time, end_time)\n",
    "\n",
    "    if valid_loss < best_valid_loss:\n",
    "        best_valid_loss = valid_loss\n",
    "        torch.save(model.state_dict(), 'tut2-model.pt')\n",
    "\n",
    "    print(f'Epoch: {epoch+1:02} | Epoch Time: {epoch_mins}m {epoch_secs}s')\n",
    "    print(f'\\tTrain Loss: {train_loss:.3f} | Train Acc: {train_acc*100:.2f}% | Train prec: {train_prec*100:.2f}%')\n",
    "    print(f'\\t Val. Loss: {valid_loss:.3f} |  Val. Acc: {valid_acc*100:.2f}% | Valid prec: {valid_prec*100:.2f}%')"
   ]
  },
  {
   "cell_type": "code",
   "execution_count": 26,
   "metadata": {},
   "outputs": [],
   "source": [
    "def predict_sentiment(model, sentence):\n",
    "    model.eval()\n",
    "    tokenized = [tok.text for tok in nlp.tokenizer(sentence)]\n",
    "    indexed = [TEXT.vocab.stoi[t] for t in tokenized]\n",
    "    length = [len(indexed)]\n",
    "    tensor = torch.LongTensor(indexed).to(device)\n",
    "    tensor = tensor.unsqueeze(1)\n",
    "    length_tensor = torch.LongTensor(length)\n",
    "    _, prediction = torch.max(model(tensor, length_tensor), axis=1)\n",
    "    return prediction.item()"
   ]
  },
  {
   "cell_type": "code",
   "execution_count": 27,
   "metadata": {},
   "outputs": [
    {
     "ename": "NameError",
     "evalue": "name 'tensor' is not defined",
     "output_type": "error",
     "traceback": [
      "\u001b[1;31m---------------------------------------------------------------------------\u001b[0m",
      "\u001b[1;31mNameError\u001b[0m                                 Traceback (most recent call last)",
      "\u001b[1;32m<ipython-input-27-b90ec55fa902>\u001b[0m in \u001b[0;36m<module>\u001b[1;34m\u001b[0m\n\u001b[1;32m----> 1\u001b[1;33m \u001b[0mprediction\u001b[0m \u001b[1;33m=\u001b[0m \u001b[0mtorch\u001b[0m\u001b[1;33m.\u001b[0m\u001b[0msigmoid\u001b[0m\u001b[1;33m(\u001b[0m\u001b[0mmodel\u001b[0m\u001b[1;33m(\u001b[0m\u001b[0mtensor\u001b[0m\u001b[1;33m,\u001b[0m \u001b[0mlength_tensor\u001b[0m\u001b[1;33m)\u001b[0m\u001b[1;33m)\u001b[0m\u001b[1;33m\u001b[0m\u001b[1;33m\u001b[0m\u001b[0m\n\u001b[0m",
      "\u001b[1;31mNameError\u001b[0m: name 'tensor' is not defined"
     ]
    }
   ],
   "source": [
    "prediction = torch.sigmoid(model(tensor, length_tensor))"
   ]
  }
 ],
 "metadata": {
  "hide_code_all_hidden": false,
  "hide_input": false,
  "kernelspec": {
   "display_name": "Python 3",
   "language": "python",
   "name": "python3"
  },
  "language_info": {
   "codemirror_mode": {
    "name": "ipython",
    "version": 3
   },
   "file_extension": ".py",
   "mimetype": "text/x-python",
   "name": "python",
   "nbconvert_exporter": "python",
   "pygments_lexer": "ipython3",
   "version": "3.7.10"
  }
 },
 "nbformat": 4,
 "nbformat_minor": 4
}
